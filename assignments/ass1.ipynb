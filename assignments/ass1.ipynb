{
 "cells": [
  {
   "attachments": {},
   "cell_type": "markdown",
   "metadata": {},
   "source": [
    "***\n",
    "# Assignment 1 Social Graphs 2023\n",
    "\n",
    "**Link to assignment description:** https://github.com/SocialComplexityLab/socialgraphs2023/blob/main/assignments/Assignment1.ipynb\n",
    "***"
   ]
  },
  {
   "attachments": {},
   "cell_type": "markdown",
   "metadata": {},
   "source": [
    "## Table of Contents\n",
    "* [0. Requirements](#requirements)\n",
    "* [1. Motivation](#motivation)\n",
    "    * [1.1 Dataset](#dateset)\n",
    "    * [1.2 Dataset Description](#datasetdescription)\n",
    "* [2. Basic Stats](#basicstats)\n",
    "    * [2.1 Handling Missing Values](#missingvalues)\n",
    "    * [2.2 Dataset Exploration](#datasetexploration)\n",
    "    * [2.3 Zooming in on Air Quality](#zoomair)\n",
    "        * [2.3.1 Specifying Target Variable](#targetvar)\n",
    "        * [2.3.2 Air Quality using \"Poor Air Quality\"](#targetvar)\n",
    "        * [2.3.3 Air Quality using \"Hazardous Air Quality\"](#targetvar)\n",
    "    * [2.4 EDA Continued](#edaplots)\n",
    "        * [2.4.1 Correlation Matrix](corrmatrix)\n",
    "* [3. Data Analysis](#dataanalysis)\n",
    "    * [3.1 Clustering based on Transportation Methods](#clustering)\n",
    "        * [3.1.1 Optimal Number of Clusters](#numberofclusters)\n",
    "        * [3.1.2 Analyzing the Properties of the Clusters](#clusterproperties)\n",
    "    * [3.2 Linear Regression Model](#linreg)\n",
    "        * [3.2.1 Unclustered Dataset Regression](#fulldata)\n",
    "        * [3.2.2 Cluster 0 Regression](#cluster0)\n",
    "        * [3.2.3 Cluster 1 Regression](#cluster1)\n",
    "        * [3.2.4 Cluster 2 Regression](#cluster2)\n",
    "* [4. Genre](#genre)\n",
    "* [5. Final Visualizations](#finalviz)\n",
    "    * [5.1 AQI Heatmap](#heatmap)\n",
    "    * [5.2 US Heatmap](#heatmap)\n",
    "    * [5.3 Stacked Barchart](#barchart)\n",
    "* [6. Discussion](#discussion)\n",
    "    * [6.1 Successes](#success)\n",
    "    * [6.2 Limitations](#limitations)\n",
    "    * [6.3 Improvements](#improvements)\n",
    "* [7. Contributions](#contributions)\n",
    "* [8. References](#references)"
   ]
  },
  {
   "attachments": {},
   "cell_type": "markdown",
   "metadata": {},
   "source": [
    "## 0. Requirements <a class=\"anchor\" id=\"requirements\"></a>"
   ]
  },
  {
   "cell_type": "code",
   "execution_count": 4,
   "metadata": {},
   "outputs": [],
   "source": [
    "import networkx as nx\n",
    "import numpy as np"
   ]
  },
  {
   "attachments": {},
   "cell_type": "markdown",
   "metadata": {},
   "source": [
    "## 1. Binning degree distributions <a class=\"anchor\" id=\"motivation\"></a>\n"
   ]
  },
  {
   "attachments": {},
   "cell_type": "markdown",
   "metadata": {},
   "source": [
    "### 1.1 Dataset <a class=\"anchor\" id=\"dataset\"></a>"
   ]
  },
  {
   "cell_type": "code",
   "execution_count": null,
   "metadata": {},
   "outputs": [],
   "source": []
  },
  {
   "attachments": {},
   "cell_type": "markdown",
   "metadata": {},
   "source": [
    "### 1.2 Dataset Description <a class=\"anchor\" id=\"datasetdescription\"></a>\n"
   ]
  },
  {
   "cell_type": "code",
   "execution_count": null,
   "metadata": {},
   "outputs": [],
   "source": []
  },
  {
   "attachments": {},
   "cell_type": "markdown",
   "metadata": {},
   "source": [
    "# 2. Random networks and plotting in `networkx` <a class=\"anchor\" id=\"basicstats\"></a>"
   ]
  },
  {
   "attachments": {},
   "cell_type": "markdown",
   "metadata": {},
   "source": [
    "We only keep the attributes of interest for our analysis, the rest of the columns are dropped. "
   ]
  },
  {
   "cell_type": "code",
   "execution_count": null,
   "metadata": {},
   "outputs": [],
   "source": []
  },
  {
   "attachments": {},
   "cell_type": "markdown",
   "metadata": {},
   "source": [
    "### 2.1. Handling Missing Values  <a class=\"anchor\" id=\"missingvalues\"></a>\n"
   ]
  },
  {
   "cell_type": "code",
   "execution_count": null,
   "metadata": {},
   "outputs": [],
   "source": []
  },
  {
   "cell_type": "code",
   "execution_count": null,
   "metadata": {},
   "outputs": [],
   "source": []
  },
  {
   "attachments": {},
   "cell_type": "markdown",
   "metadata": {},
   "source": [
    "### 2.2. Data Exploration <a class=\"anchor\" id=\"datasetexploration\"></a>"
   ]
  },
  {
   "cell_type": "code",
   "execution_count": null,
   "metadata": {},
   "outputs": [],
   "source": []
  },
  {
   "cell_type": "code",
   "execution_count": null,
   "metadata": {},
   "outputs": [],
   "source": []
  },
  {
   "attachments": {},
   "cell_type": "markdown",
   "metadata": {},
   "source": [
    "How many cities do we have?"
   ]
  },
  {
   "cell_type": "code",
   "execution_count": null,
   "metadata": {},
   "outputs": [],
   "source": []
  },
  {
   "attachments": {},
   "cell_type": "markdown",
   "metadata": {},
   "source": [
    "### 2.3. Zooming in on air quality <a class=\"anchor\" id=\"zoomair\"></a>\n"
   ]
  },
  {
   "cell_type": "code",
   "execution_count": null,
   "metadata": {},
   "outputs": [],
   "source": []
  },
  {
   "attachments": {},
   "cell_type": "markdown",
   "metadata": {},
   "source": [
    "### 2.4 EDA Continued <a class=\"anchor\" id=\"edaplots\"></a>"
   ]
  },
  {
   "cell_type": "code",
   "execution_count": null,
   "metadata": {},
   "outputs": [],
   "source": []
  },
  {
   "attachments": {},
   "cell_type": "markdown",
   "metadata": {},
   "source": []
  },
  {
   "attachments": {},
   "cell_type": "markdown",
   "metadata": {},
   "source": [
    "## 3. Data analysis <a class=\"anchor\" id=\"dataanalysis\"></a>\n",
    "- Describe your data analysis and explain what you've learned about the dataset.\n",
    "- If relevant, talk about your machine-learning.\n",
    "\n",
    "**In the following**, we want to perform clustering across cities based on transportation methods. **We then** want to discover if the clusters we find hold any interesting patterns. **Finally**, we want to analyze whether transportation methods actually have a statistically significant effect on the Air Quality using a multivariate linear regression model. \n",
    "\n",
    "**Before we do so**, we must preprocess the data a tiny bit more. "
   ]
  },
  {
   "attachments": {},
   "cell_type": "markdown",
   "metadata": {},
   "source": [
    "### 3.1 Clustering based on Transportation Methods <a class=\"anchor\" id=\"clustering\"></a>\n"
   ]
  },
  {
   "attachments": {},
   "cell_type": "markdown",
   "metadata": {},
   "source": [
    "#### 3.1.1 Optimal Number of Clusters <a class=\"anchor\" id=\"numberofclusters\"></a>"
   ]
  },
  {
   "cell_type": "code",
   "execution_count": null,
   "metadata": {},
   "outputs": [],
   "source": []
  },
  {
   "attachments": {},
   "cell_type": "markdown",
   "metadata": {},
   "source": [
    "#### 3.1.2 Analyzing the Properties of the Clusters <a class=\"anchor\" id=\"clusterproperties\"></a>"
   ]
  },
  {
   "cell_type": "code",
   "execution_count": null,
   "metadata": {},
   "outputs": [],
   "source": []
  },
  {
   "attachments": {},
   "cell_type": "markdown",
   "metadata": {},
   "source": [
    "### 3.2 Linear Regression <a class=\"anchor\" id=\"linreg\"></a>\n"
   ]
  },
  {
   "attachments": {},
   "cell_type": "markdown",
   "metadata": {},
   "source": [
    "#### 3.2.1 Unclustered Dataset Regression <a class=\"anchor\" id=\"fulldata\"></a>"
   ]
  },
  {
   "cell_type": "code",
   "execution_count": null,
   "metadata": {},
   "outputs": [],
   "source": []
  },
  {
   "attachments": {},
   "cell_type": "markdown",
   "metadata": {},
   "source": [
    "## 4. Genre. Which genre of data story did you use? <a class=\"anchor\" id=\"genre\"></a>"
   ]
  },
  {
   "cell_type": "code",
   "execution_count": null,
   "metadata": {},
   "outputs": [],
   "source": []
  },
  {
   "attachments": {},
   "cell_type": "markdown",
   "metadata": {},
   "source": [
    "## 5. Final visualizations <a class=\"anchor\" id=\"finalviz\"></a>"
   ]
  },
  {
   "cell_type": "code",
   "execution_count": null,
   "metadata": {},
   "outputs": [],
   "source": []
  },
  {
   "attachments": {},
   "cell_type": "markdown",
   "metadata": {},
   "source": [
    "### 5.2 Stacked Barchart <a class=\"anchor\" id=\"barchart\"></a>"
   ]
  },
  {
   "cell_type": "code",
   "execution_count": null,
   "metadata": {},
   "outputs": [],
   "source": []
  },
  {
   "attachments": {},
   "cell_type": "markdown",
   "metadata": {},
   "source": [
    "### 5.3 Means for each 3 clusters <a class=\"anchor\" id=\"clustermeans\"></a>"
   ]
  },
  {
   "cell_type": "code",
   "execution_count": null,
   "metadata": {},
   "outputs": [],
   "source": []
  },
  {
   "attachments": {},
   "cell_type": "markdown",
   "metadata": {},
   "source": [
    "## 6. Discussion <a class=\"anchor\" id=\"discussion\"></a>"
   ]
  },
  {
   "attachments": {},
   "cell_type": "markdown",
   "metadata": {},
   "source": [
    "### 6.1 Successes <a class=\"anchor\" id=\"success\"></a>\n"
   ]
  },
  {
   "attachments": {},
   "cell_type": "markdown",
   "metadata": {},
   "source": [
    "## 7. Contributions. Who did what? <a class=\"anchor\" id=\"contributions\"></a>\n",
    "\n",
    "**222798 - Laura**\n",
    "- Clustering\n",
    "- Data Preprocessing and EDA\n",
    "- Correlation Matrix\n",
    "- Writing motivation, genre & Discussion\n",
    "\n",
    "**223724 - Julia**\n",
    "- Created stacked barchart per city. \n",
    "- Created US geographical heatmap\n",
    "- Found relevant research for references\n",
    "\n",
    "\n",
    "**s223730 - Pierre**\n",
    "- Found dataset, preprocessed data and performed EDA\n",
    "- Formatted notebook and made website\n",
    "- Made yearly Air Quality heatmap plot\n",
    "- Data analysis\n",
    "    - clustering based on transportation methods\n",
    "    - found optimal number of clusters\n",
    "    - eda based on each 3 clusters\n",
    "    - made stacked bar chart based on clusters.\n",
    "    - OLS based on clusters and comments for OLS results\n",
    "- Helped writing discussion (limitations, successes)\n"
   ]
  },
  {
   "attachments": {},
   "cell_type": "markdown",
   "metadata": {},
   "source": [
    "## 8. References <a class=\"anchor\" id=\"references\"></a>"
   ]
  },
  {
   "attachments": {},
   "cell_type": "markdown",
   "metadata": {},
   "source": [
    "[1] Longhurst, J. W. S., D. Rayfield, and D. E. Conlan. 1994. \"The Impacts Of Road Transport On Urban Air Quality-A Case Study Of The Greater Manchester Region.\" WIT Transactions on Ecology and the Environment 3.\n",
    "\n",
    "[2] Jing, Qin-Lei, Han-Zhen Liu, Wei-Qing Yu, and Xu He. 2022. \"The Impact of Public Transportation on Carbon Emissions—From the Perspective of Energy Consumption\" Sustainability 14, no. 10: 6248. https://doi.org/10.3390/su14106248 \n",
    "\n",
    "[3] Edward Segel and Jeffrey Heer. 2011 .\"Narrative Visualization: Telling Stories with Data\". IEEE transactions on visualization and computer graphics. 16. 1139-48. "
   ]
  },
  {
   "cell_type": "markdown",
   "metadata": {},
   "source": []
  }
 ],
 "metadata": {
  "kernelspec": {
   "display_name": "Python 3 (ipykernel)",
   "language": "python",
   "name": "python3"
  },
  "language_info": {
   "codemirror_mode": {
    "name": "ipython",
    "version": 3
   },
   "file_extension": ".py",
   "mimetype": "text/x-python",
   "name": "python",
   "nbconvert_exporter": "python",
   "pygments_lexer": "ipython3",
   "version": "3.11.0"
  }
 },
 "nbformat": 4,
 "nbformat_minor": 2
}
