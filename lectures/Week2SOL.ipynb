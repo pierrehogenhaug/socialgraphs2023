{
 "cells": [
  {
   "cell_type": "markdown",
   "metadata": {},
   "source": [
    "# Overview\n",
    "\n",
    "\n",
    "We kick things off with a few more administrative things. \n",
    "\n",
    "It might seem boring to hear about admin, **but this is the stuff you need to know to do well in the class**. So I recommend watching and paying attention!\n",
    "\n",
    "Afterwards, we follow up on the Network Examples exercise from last week, and get a couple of short guest-lectures about how networks are useful in _\"real life\"_.\n",
    "\n",
    "Then, we kick into gear and get started on the actual work. This week is about getting familiar with networks, and we'll focus on three main elements\n",
    "\n",
    "* A short talk on the basic mathematical description of networks\n",
    "* The `NetworkX` library \n",
    "* Matplotlib, binning, and plotting degree distributions\n",
    "* Random networks\n",
    "\n",
    "(The work-load is still a little bit light, since we want to allow those who are not super-strong at programming a bit of time to catch up. If you're bored and in need of extra work, let me know and I'll point you in the right direction.)"
   ]
  },
  {
   "cell_type": "markdown",
   "metadata": {},
   "source": [
    "# Part 0.0: The Admin Stuff \n",
    "### (GitHub Page Overview Edition)\n",
    "\n",
    "Last week, I gave you a lot of practical information about how to follow the class and discussed the principles of how I teach. How each lecture is structured to maximize your learning according to state-of-the-art principles. \n",
    "\n",
    "This week, the admin video talks about the structure of the Course Page, which actually contains a lot of useful information. Watch it [here](https://www.dropbox.com/scl/fi/15cizm63dhwxc3acf4zdr/AdminWeek2.mp4?rlkey=aogc5tj64yysmq2kea4ucpgqs&dl=0). Link: https://www.dropbox.com/scl/fi/15cizm63dhwxc3acf4zdr/AdminWeek2.mp4?rlkey=aogc5tj64yysmq2kea4ucpgqs&dl=0 .\n",
    "\n",
    "You'll notice that I've made it for the class that runs in the spring (Social Data Analysis and Visualization), but the web-page structure is similar, so everyhting should still work.\n",
    "\n",
    "Next week, I'll talk about the final elements of admin we have to cover for now\n",
    "\n",
    "* Forming groups\n",
    "* Handing in assignments\n",
    "* Peer Evaluations\n",
    "* The structure of the class"
   ]
  },
  {
   "cell_type": "markdown",
   "metadata": {},
   "source": [
    "# Part 0.1: Following up on last week's Network Examples exercise\n",
    "Last week, I showed you 4 different networks, and asked you to \n",
    "- Describe what you thought were important properties of the networks\n",
    "- Guess what the networks might be representing\n",
    "\n",
    "You even shared your thoughts [here](https://docs.google.com/spreadsheets/d/1eSnS6xvt_IKI_7PYH0hHwVp2y-64yyqLnu2DT5w7Yto/edit?usp=sharing). \n",
    "\n",
    "From talking to you, and reading your replies, it seems like you had many interesting discussions related to this exercise. Many of you really got the imagination going! Awesome!\n",
    "\n",
    "Some of you also asked me, whether we could follow up on the exercise; perhaps reveal what the networks actually are? This is what I do the following video. It's a bit longer than I intended, but I hope you can sit through it anyway.\n",
    "\n",
    "> **Video Lecture**. Let's [revisit the network examples from last week](https://www.dropbox.com/scl/fi/zk62u7qrhemnytxn47v0o/NetworkExamples.mp4?rlkey=y3k29hccqbwipn140rzgt1r1l&dl=0). Link: https://www.dropbox.com/scl/fi/zk62u7qrhemnytxn47v0o/NetworkExamples.mp4?rlkey=y3k29hccqbwipn140rzgt1r1l&dl=0\n"
   ]
  },
  {
   "cell_type": "markdown",
   "metadata": {},
   "source": [
    "# Part 0.2: Networks in \"real life\"\n",
    "\n",
    "Networks are interesting, but why would networks be important in \"real life\"? A couple of kind people have agreed to share 1-minute descriptions of how they use networks in their job. They will tell us\n",
    "- What nodes and links represent in the networks they work with\n",
    "- What kind of problem they are trying to solve with these networks\n",
    "\n",
    "> First watch [my short introduction to the videos](https://www.dropbox.com/scl/fi/jwcwqupz8btjmqd8yxt7q/NetworksInRealLife.mp4?rlkey=kyrmb6rcnfp2mkxk3rgkue8a0&dl=0)\n",
    "\n",
    "> Then watch the following videos that give an extremely short introduction to networks in \"real life\"\n",
    "> - [Ditte Nørbo Sørensen, Statistician at PFA Pension](https://www.dropbox.com/scl/fi/2zk3lkpzas9zoyzeqhamv/Ditte_PFA.mp4?rlkey=qltt9celtb8us7oo1zeqm635q&dl=0) Link: https://www.dropbox.com/scl/fi/2zk3lkpzas9zoyzeqhamv/Ditte_PFA.mp4?rlkey=qltt9celtb8us7oo1zeqm635q&dl=0\n",
    "> - [Jacob Søberg Bach, Senior Data Scientist at Novo Nordisk](https://www.dropbox.com/scl/fi/w51hu99sk1dpf1px9pgp3/Jacob_Novo.MOV?rlkey=3jklr4sxnwzn9s8qk6z3c9g62&dl=0) Link : https://www.dropbox.com/scl/fi/w51hu99sk1dpf1px9pgp3/Jacob_Novo.MOV?rlkey=3jklr4sxnwzn9s8qk6z3c9g62&dl=0\n",
    "> - [Jonas Lybker Juul, Postdoc at DTU Compute (Yep, that's me)](https://www.dropbox.com/s/n2341cgf0byxmly/Networks_DTU_JLJuul.mpeg?dl=0) Link: https://www.dropbox.com/s/n2341cgf0byxmly/Networks_DTU_JLJuul.mpeg?dl=0\n",
    "\n",
    "Exercise:\n",
    "> Now that you have watched a few examples of how networks can be important in real life, try to think of one example from your own field of study (or workplace), where networks are important. \n",
    "> - What are the nodes and edges in this networks?\n",
    "> - What problems can your network help you solve?"
   ]
  },
  {
   "cell_type": "markdown",
   "metadata": {},
   "source": [
    "# Part 1: Basic mathematical description of networks\n",
    "\n",
    "This week, let's start with some lecturing. I love networks, so I'll take some time today to tell you about them."
   ]
  },
  {
   "cell_type": "markdown",
   "metadata": {},
   "source": [
    "> **_Video Lecture_**. Then check out a few comments on \"[Network Notation](https://www.dropbox.com/scl/fi/ed2ho7xvkxpg2o1onwtxg/NetworkNotation.mp4?rlkey=t7dt7eqzy7abyydpmeeys00cz&dl=0)\". Link: https://www.dropbox.com/scl/fi/ed2ho7xvkxpg2o1onwtxg/NetworkNotation.mp4?rlkey=t7dt7eqzy7abyydpmeeys00cz&dl=0 "
   ]
  },
  {
   "cell_type": "markdown",
   "metadata": {},
   "source": [
    "Now for some reading\n",
    "\n",
    "> _Reading_. We'll be reading the textbook _Network Science_ (NS) by Laszlo Barabasi. You can read the whole \n",
    "> thing for free [**here**](http://barabasi.com/networksciencebook/). \n",
    ">\n",
    "> * Read chapter 2\\.\n",
    "> "
   ]
  },
  {
   "cell_type": "markdown",
   "metadata": {},
   "source": [
    "And the associated exercises\n",
    "\n",
    "> *Exercises*: Chapter 2 in *Network Science*.\n",
    "> \n",
    "> * Section 2.5 states that real networks are sparse. Can you think of a real network where each node has _many_ connections? Is that network still sparse? If yes, can you explain why?\n",
    "> \n",
    "> There are more questions on Chapter 2 below.\n",
    "> "
   ]
  },
  {
   "cell_type": "markdown",
   "metadata": {},
   "source": [
    "# Part 2: Exercises using the `NetworkX` library\n",
    "\n",
    "Let's try to solve a few of the exercises from the book using `NetworkX`\n",
    "\n",
    "> *Exercises*:\n",
    "> \n",
    "> * Go to NS Section 2.12: Homework, then\n",
    ">   * Write the solution exercise **2.1** (the 'Königsberg Problem') from NS in your `notebook`. \n",
    ">   * Solve exercise **2.3** ('Graph representation') from NS using `NetworkX` in your `notebook`. (You don't have to solve the last sub-question about *cycles of length 4* ... but I'll be impressed if you do it).\n",
    ">   * Solve exercise **2.5** ('Bipartite Networks') from NS using `NetworkX` in your `notebook`. *Important note*: There is a a mistake in the book. When it says \"Block diagonal\", they mean \"Anti-diagonal\" (all elements are away from the diagonal blocks). \n",
    ">     - *Note*: For those without the physical book (and therefore no exercise numbers), the part \"Bipartite Networks - General Considerations\" does not need to be solved (the two last questions do not make much sense to me).\n",
    "> "
   ]
  },
  {
   "cell_type": "markdown",
   "metadata": {},
   "source": [
    "### 2.3"
   ]
  },
  {
   "cell_type": "code",
   "execution_count": 18,
   "metadata": {},
   "outputs": [
    {
     "name": "stdout",
     "output_type": "stream",
     "text": [
      "Undirected Matrix:\n",
      "(1, 2)\n",
      "(1, 6)\n",
      "(1, 3)\n",
      "(2, 3)\n",
      "(2, 4)\n",
      "(6, 3)\n"
     ]
    }
   ],
   "source": [
    "import networkx as nx\n",
    "\n",
    "# (a) Undirected Graph\n",
    "G_undirected = nx.Graph()\n",
    "\n",
    "# Adding edges to the undirected graph\n",
    "G_undirected.add_edges_from([(1,2), (1,6), (2,3), (2,4), (3,1), (3,6), (4,2)])\n",
    "\n",
    "# Generating the Lx2 matrix for undirected graph\n",
    "undirected_matrix = list(G_undirected.edges())\n",
    "print(\"Undirected Matrix:\")\n",
    "for row in undirected_matrix:\n",
    "    print(row)\n"
   ]
  },
  {
   "cell_type": "code",
   "execution_count": 19,
   "metadata": {},
   "outputs": [
    {
     "name": "stdout",
     "output_type": "stream",
     "text": [
      "\n",
      "Directed Matrix:\n",
      "(1, 2)\n",
      "(2, 3)\n",
      "(2, 4)\n",
      "(3, 1)\n",
      "(3, 2)\n",
      "(4, 1)\n",
      "(6, 1)\n",
      "(6, 3)\n"
     ]
    }
   ],
   "source": [
    "# (b) Directed Graph\n",
    "G_directed = nx.DiGraph()\n",
    "\n",
    "# Adding edges to the directed graph\n",
    "G_directed.add_edges_from([(1,2), (2,3), (2,4), (3,1), (3,2), (4,1), (6,1), (6,3)])\n",
    "\n",
    "# Generating the Lx2 matrix for directed graph\n",
    "directed_matrix = list(G_directed.edges())\n",
    "print(\"\\nDirected Matrix:\")\n",
    "for row in directed_matrix:\n",
    "    print(row)"
   ]
  },
  {
   "cell_type": "code",
   "execution_count": 20,
   "metadata": {},
   "outputs": [
    {
     "name": "stdout",
     "output_type": "stream",
     "text": [
      "Adjacency Matrix for (a):\n",
      "[[0 1 1 1 0]\n",
      " [1 0 0 1 1]\n",
      " [1 0 0 1 0]\n",
      " [1 1 1 0 0]\n",
      " [0 1 0 0 0]]\n",
      "\n",
      "Link List for (a):\n",
      "[(1, 2), (1, 6), (1, 3), (2, 3), (2, 4), (6, 3)]\n",
      "\n",
      "Adjacency Matrix for (b):\n",
      "[[0 1 0 0 0]\n",
      " [0 0 1 1 0]\n",
      " [1 1 0 0 0]\n",
      " [1 0 0 0 0]\n",
      " [1 0 1 0 0]]\n",
      "\n",
      "Link List for (b):\n",
      "[(1, 2), (2, 3), (2, 4), (3, 1), (3, 2), (4, 1), (6, 1), (6, 3)]\n"
     ]
    },
    {
     "name": "stderr",
     "output_type": "stream",
     "text": [
      "C:\\Users\\pih\\AppData\\Local\\Temp\\ipykernel_320\\22024838.py:2: FutureWarning: adjacency_matrix will return a scipy.sparse array instead of a matrix in Networkx 3.0.\n",
      "  adj_matrix_undirected = nx.adjacency_matrix(G_undirected).todense()\n",
      "C:\\Users\\pih\\AppData\\Local\\Temp\\ipykernel_320\\22024838.py:3: FutureWarning: adjacency_matrix will return a scipy.sparse array instead of a matrix in Networkx 3.0.\n",
      "  adj_matrix_directed = nx.adjacency_matrix(G_directed).todense()\n"
     ]
    }
   ],
   "source": [
    "# 1. Construct the adjacency matrices and link lists\n",
    "adj_matrix_undirected = nx.adjacency_matrix(G_undirected).todense()\n",
    "adj_matrix_directed = nx.adjacency_matrix(G_directed).todense()\n",
    "\n",
    "link_list_undirected = list(G_undirected.edges())\n",
    "link_list_directed = list(G_directed.edges())\n",
    "\n",
    "print(\"Adjacency Matrix for (a):\")\n",
    "print(adj_matrix_undirected)\n",
    "\n",
    "print(\"\\nLink List for (a):\")\n",
    "print(link_list_undirected)\n",
    "\n",
    "print(\"\\nAdjacency Matrix for (b):\")\n",
    "print(adj_matrix_directed)\n",
    "\n",
    "print(\"\\nLink List for (b):\")\n",
    "print(link_list_directed)"
   ]
  },
  {
   "cell_type": "code",
   "execution_count": 21,
   "metadata": {},
   "outputs": [
    {
     "name": "stdout",
     "output_type": "stream",
     "text": [
      "\n",
      "Average Clustering Coefficient for (a): 0.5333333333333333\n"
     ]
    }
   ],
   "source": [
    "# 2. Compute average clustering coefficient for network (a)\n",
    "avg_clustering_coefficient = nx.average_clustering(G_undirected)\n",
    "print(f\"\\nAverage Clustering Coefficient for (a): {avg_clustering_coefficient}\")"
   ]
  },
  {
   "cell_type": "markdown",
   "metadata": {},
   "source": [
    "# 3. Switch labels of nodes 5 and 6 in (a)\n",
    "mapping = {5: 6, 6: 5}\n",
    "G_undirected = nx.relabel_nodes(G_undirected, mapping)\n",
    "\n",
    "switched_adj_matrix = nx.adjacency_matrix(G_undirected).todense()\n",
    "switched_link_list = list(G_undirected.edges())\n",
    "\n",
    "print(\"\\nAdjacency Matrix for (a) after switching labels of nodes 5 and 6:\")\n",
    "print(switched_adj_matrix)\n",
    "\n",
    "print(\"\\nLink List for (a) after switching labels of nodes 5 and 6:\")\n",
    "print(switched_link_list)"
   ]
  },
  {
   "cell_type": "code",
   "execution_count": 22,
   "metadata": {},
   "outputs": [
    {
     "name": "stdout",
     "output_type": "stream",
     "text": [
      "\n",
      "Number of paths of length 3 from node 1 to node 3 in (a): 0\n",
      "Number of paths of length 3 from node 1 to node 3 in (b): 0\n"
     ]
    }
   ],
   "source": [
    "# 5. Count paths of length 3 starting from node 1 and ending at node 3\n",
    "paths_a = list(nx.all_simple_paths(G_undirected, source=1, target=3, cutoff=3))\n",
    "paths_b = list(nx.all_simple_paths(G_directed, source=1, target=3, cutoff=3))\n",
    "\n",
    "count_paths_a = sum(1 for path in paths_a if len(path) == 4)  # length 4 because it includes both start and end nodes\n",
    "count_paths_b = sum(1 for path in paths_b if len(path) == 4)\n",
    "\n",
    "print(f\"\\nNumber of paths of length 3 from node 1 to node 3 in (a): {count_paths_a}\")\n",
    "print(f\"Number of paths of length 3 from node 1 to node 3 in (b): {count_paths_b}\")\n"
   ]
  },
  {
   "cell_type": "code",
   "execution_count": 23,
   "metadata": {},
   "outputs": [
    {
     "name": "stdout",
     "output_type": "stream",
     "text": [
      "\n",
      "Number of cycles of length 4 in (a): 0\n",
      "Number of cycles of length 4 in (b): 0\n"
     ]
    }
   ],
   "source": [
    "# 6. Count the number of cycles of length 4 in both networks\n",
    "# For undirected graph\n",
    "basis_cycles_a = nx.cycle_basis(G_undirected)\n",
    "count_cycles_a = sum(1 for cycle in basis_cycles_a if len(cycle) == 4)\n",
    "\n",
    "# For directed graph\n",
    "cycles_b = list(nx.simple_cycles(G_directed))\n",
    "count_cycles_b = sum(1 for cycle in cycles_b if len(cycle) == 4)\n",
    "\n",
    "print(f\"\\nNumber of cycles of length 4 in (a): {count_cycles_a}\")\n",
    "print(f\"Number of cycles of length 4 in (b): {count_cycles_b}\")"
   ]
  },
  {
   "cell_type": "markdown",
   "metadata": {},
   "source": [
    "# Part 3: Plotting degree distributions\n",
    "\n",
    "As always we'll learn about degree-distribution plotting by creating a `notebook` and trying it out. \n",
    "\n",
    "As a little public service announcement about this exercise: I know that you've probably tried binning data before. And that there are many functions designed to make binning easy, so there is a good chance that you think that binning data into bins is something that you don't have to worry about.\n",
    "\n",
    "**BUT** ... with this exercise, you may find that binning isn't always trivial. And that there are key things to think about every time you need to put data into buckets. So please read the exercise carefully. And follow my instructions carefully.\n",
    "\n",
    "\n",
    "> \n",
    "> *Exercises*:\n",
    "> \n",
    "> Begin by importing the right packages. Start by importing `matplotlib.pyplot` (for plotting), `numpy` (for binning and other stuff), \n",
    "> `random` (for generating random numbers), and `networkx` (for generating networks.)\n",
    "> \n",
    "> * Binning real numbers\n",
    ">   * Let's do a gentle start and use the `random` library generate 5000 data points from a Gaussian distribution with $\\mu = 2$ and $\\sigma = 0.125$.\n",
    ">   * Now, let's use `numpy.histogram` to bin those number into 10 bins. What does the `numpy.histogram` function return? Do the two arrays have the same length?\n",
    ">   * Then we use `matplotlib.pyplot.plot` to plot the binned data. You will have to deal with the fact that the counts- and bin-arrays have different lengths. Explain how you deal with this problem and why.\n",
    "> * Binning integers\n",
    ">   * But binning real numbers into a fixed number of bins is easy when `numpy.histogram` does all the work and finds the right bin boundaries for you. \n",
    "> Now we'll generate a bunch of integers and set the bin boundaries manually. This time, let's grab data from a Poisson distribution. As it turns out \n",
    "> `numpy` also has some convenient random number generators. Use `numpy.random.poisson` to generate 5000 numbers drawn from a Poisson distribution \n",
    "> characterized by $\\lambda = 10$. Find the maximum and minimum value of your 5000 random numbers. \n",
    ">   * Instead of simply specifying the number of bins for `numpy.histogram`, let's specify the bins we want using a vector. \n",
    "> Create a vector $v$\n",
    "> that results in a binning that puts each integer value in its own bin and where the first bin contains the minimum number you found above, \n",
    "> and the last bin contains the maximum number. \n",
    "> Use the vector by setting `numpy.histogram`'s `bin` parameter as `bin = ` $v$. \n",
    "> What is the sum over bin counts? Explain how the binning-vectors first and last element \n",
    "> relates to the min and max from the Poisson distribution.\n",
    ">   * Now, use a bar chart (`matplotlib.pyplot.bar`) to plot the distribution \n",
    "> * Binning and plotting degree distributions. \n",
    ">   * Let's generate the Erdös-Renyi (ER) network which has a degree distribution that matches the Poisson distribution above. \n",
    "> First we have to figure out which values the ER parameters (_N_ and _p_) should assume. It's easy to see that $N = 5000$, but how do you find $p$? \n",
    "> **Hint**: The parameter $\\lambda$ in the Poisson distribution corresponds to the average degree, so you have to find a $p$ that results in an average \n",
    "> degree, $\\langle k \\rangle = 10$. And you know that $\\langle k \\rangle = p (N-1)$, which will give you $p$.\n",
    ">   * Now, use `networkx` to create the graph and extract the degree distribution.\n",
    ">   * Finally, create a nice bar plot of the degree distribution, including axes labels and a plot title. Make sure that it looks like the Poisson distribution you plotted above.\n",
    "> "
   ]
  },
  {
   "cell_type": "code",
   "execution_count": 26,
   "metadata": {},
   "outputs": [],
   "source": [
    "import matplotlib.pyplot as plt\n",
    "import numpy as np\n",
    "import random"
   ]
  },
  {
   "cell_type": "code",
   "execution_count": 28,
   "metadata": {},
   "outputs": [
    {
     "data": {
      "text/plain": [
       "array([1.84292378, 1.91715285, 2.09522373, ..., 1.87454223, 2.00199413,\n",
       "       1.92626824])"
      ]
     },
     "execution_count": 28,
     "metadata": {},
     "output_type": "execute_result"
    }
   ],
   "source": [
    "# Generating Data Points from a Gaussian Distribution\n",
    "mu = 2\n",
    "sigma = 0.125\n",
    "\n",
    "gaussian_data = np.random.normal(mu, sigma, 5000)\n",
    "gaussian_data"
   ]
  },
  {
   "cell_type": "code",
   "execution_count": 30,
   "metadata": {},
   "outputs": [
    {
     "name": "stdout",
     "output_type": "stream",
     "text": [
      "Counts: [   7   59  343  876 1443 1286  729  211   43    3]\n",
      "Bin Edges: [1.53794619 1.63321713 1.72848806 1.823759   1.91902994 2.01430088\n",
      " 2.10957181 2.20484275 2.30011369 2.39538462 2.49065556]\n"
     ]
    }
   ],
   "source": [
    "# Binning the Gaussian Data Points\n",
    "counts, bin_edges = np.histogram(gaussian_data, bins=10)\n",
    "\n",
    "print(\"Counts:\", counts) # count of numbers in each bin\n",
    "print(\"Bin Edges:\", bin_edges) # edges of the bins"
   ]
  },
  {
   "cell_type": "code",
   "execution_count": 56,
   "metadata": {},
   "outputs": [
    {
     "name": "stderr",
     "output_type": "stream",
     "text": [
      "No artists with labels found to put in legend.  Note that artists whose label start with an underscore are ignored when legend() is called with no argument.\n"
     ]
    },
    {
     "data": {
      "image/png": "[encoded data removed]",
      "text/plain": [
       "<Figure size 432x288 with 1 Axes>"
      ]
     },
     "metadata": {
      "needs_background": "light"
     },
     "output_type": "display_data"
    }
   ],
   "source": [
    "# Since the counts and bin edges have different lengths, \n",
    "# we can use the following approach to deal with this discrepancy:\n",
    "# We'll take the average of each pair of consecutive bin edges \n",
    "# to get the center of each bin and use that as our x-axis values.\n",
    "bin_centers = (bin_edges[:-1] + bin_edges[1:]) / 2\n",
    "\n",
    "plt.bar(bin_centers, counts)\n",
    "plt.xlabel('Value')\n",
    "plt.ylabel('Frequency')\n",
    "plt.title('Gaussian Data')\n",
    "plt.legend()\n",
    "plt.show()"
   ]
  },
  {
   "cell_type": "code",
   "execution_count": 46,
   "metadata": {},
   "outputs": [
    {
     "name": "stdout",
     "output_type": "stream",
     "text": [
      "Max value: 22\n",
      "Min value: 1\n"
     ]
    }
   ],
   "source": [
    "# Parameters for Poisson distribution\n",
    "lam = 10\n",
    "\n",
    "# Generating data\n",
    "poisson_data = np.random.poisson(lam, 5000)\n",
    "\n",
    "min_val = np.min(poisson_data)\n",
    "max_val = np.max(poisson_data)\n",
    "# Find the maximum and minimum value of the generated numbers\n",
    "print(\"Max value:\", max_val)\n",
    "print(\"Min value:\", min_val)"
   ]
  },
  {
   "cell_type": "code",
   "execution_count": 52,
   "metadata": {},
   "outputs": [
    {
     "data": {
      "text/plain": [
       "(array([  4,   5,  36,  88, 201, 287, 445, 569, 648, 608, 550, 511, 357,\n",
       "        281, 152, 123,  77,  27,  17,   7,   5,   2], dtype=int64),\n",
       " array([ 0.5,  1.5,  2.5,  3.5,  4.5,  5.5,  6.5,  7.5,  8.5,  9.5, 10.5,\n",
       "        11.5, 12.5, 13.5, 14.5, 15.5, 16.5, 17.5, 18.5, 19.5, 20.5, 21.5,\n",
       "        22.5]))"
      ]
     },
     "execution_count": 52,
     "metadata": {},
     "output_type": "execute_result"
    }
   ],
   "source": [
    "# Creating bin vector such that each integer has its own bin\n",
    "v = np.arange(min_val, max_val + 2) - 0.5  # +2 and -0.5 to ensure each integer gets its own bin\n",
    "\n",
    "# Binning data using the custom bin vector\n",
    "counts, bin_edges = np.histogram(poisson_data, bins=v)\n",
    "counts, bin_edges"
   ]
  },
  {
   "cell_type": "code",
   "execution_count": 53,
   "metadata": {},
   "outputs": [
    {
     "data": {
      "image/png": "[encoded data removed]",
      "text/plain": [
       "<Figure size 432x288 with 1 Axes>"
      ]
     },
     "metadata": {
      "needs_background": "light"
     },
     "output_type": "display_data"
    }
   ],
   "source": [
    "# Using a bar chart to plot the binned data\n",
    "bin_centers = (bin_edges[:-1] + bin_edges[1:]) / 2\n",
    "plt.bar(bin_centers, counts, width=0.8, align='center')\n",
    "plt.xlabel('Value')\n",
    "plt.ylabel('Frequency')\n",
    "plt.title('Poisson Distribution')\n",
    "plt.show()"
   ]
  },
  {
   "cell_type": "code",
   "execution_count": 54,
   "metadata": {},
   "outputs": [
    {
     "data": {
      "image/png": "[encoded data removed]",
      "text/plain": [
       "<Figure size 432x288 with 1 Axes>"
      ]
     },
     "metadata": {
      "needs_background": "light"
     },
     "output_type": "display_data"
    }
   ],
   "source": [
    "# Calculating p\n",
    "N = 5000\n",
    "avg_degree = 10\n",
    "p = avg_degree / (N-1)\n",
    "\n",
    "# Creating ER network\n",
    "ER_graph = nx.erdos_renyi_graph(N, p)\n",
    "\n",
    "# Extracting the degree distribution\n",
    "degree_sequence = [d for n, d in ER_graph.degree()]\n",
    "\n",
    "# Binning and plotting\n",
    "counts, bin_edges = np.histogram(degree_sequence, bins=v)\n",
    "bin_centers = (bin_edges[:-1] + bin_edges[1:]) / 2\n",
    "plt.bar(bin_centers, counts, width=0.8, align='center')\n",
    "plt.xlabel('Degree')\n",
    "plt.ylabel('Number of Nodes')\n",
    "plt.title('Degree Distribution of ER Network')\n",
    "plt.show()"
   ]
  },
  {
   "cell_type": "markdown",
   "metadata": {},
   "source": [
    "# Part 4: Random networks\n",
    "\n",
    "> **_Video Lecture_**. Now it's time to relax and watch a few minutes of info on _[Random Networks](https://www.dropbox.com/scl/fi/zjjrojrq6bfs5j0f201zv/RandomNetworks.mp4?rlkey=4vgrsrsu9e0lqwe5aocaujn6s&dl=0)_ link: https://www.dropbox.com/scl/fi/zjjrojrq6bfs5j0f201zv/RandomNetworks.mp4?rlkey=4vgrsrsu9e0lqwe5aocaujn6s&dl=0. "
   ]
  },
  {
   "cell_type": "markdown",
   "metadata": {},
   "source": [
    "> _Reading_. Read section 3.1-3.7 (the most important part is 3.1-3.4) of Chapter 3 of _Network Science_. You can find the entire book [**here**](http://barabasi.com/networksciencebook/).\n"
   ]
  },
  {
   "cell_type": "markdown",
   "metadata": {},
   "source": [
    "> _Exercises_ (should be completed in a `notebook`):\n",
    "> \n",
    "> * Work through NS exercise 3.1 ('Erdős-Rényi Networks'). The exercise can be found in Section 3.11: Homework.\n"
   ]
  },
  {
   "cell_type": "code",
   "execution_count": 58,
   "metadata": {},
   "outputs": [],
   "source": [
    "N = 3000\n",
    "p = 10**-3\n",
    "expected_links = p * N * (N-1) / 2\n",
    "\n",
    "# The regime of the network can be determined based on the value of ⟨ k ⟩ (average degree), where: ⟨ k ⟩ =  p(N − 1)\n",
    "# If: \n",
    "# ⟨k⟩<1, the network is in the subcritical regime. \n",
    "# ⟨k⟩=1, the network is at the critical point. \n",
    "# ⟨k⟩>1, but close to 1, the network is in the supercritical regime. \n",
    "# ⟨k⟩≫1, the network is in the connected regime.\n"
   ]
  },
  {
   "cell_type": "markdown",
   "metadata": {},
   "source": [
    "> * Paths. Plot a random network with 200 nodes and an average degree of 1.5\\. (I suggest using `networkx.draw` and reading [the documentation](https://networkx.github.io/documentation/stable/reference/drawing.html) carefully to get an overview of all the options and what they look like. For example, you may want to shrink the node size).\n",
    ">   * Extract the Giant Connected Component, GCC. (Hint: You can use `networkx.connected_component_subgraphs` <- it works in ealier versions of NetworkX (<2.5) || Otherwise, you can use `nx.connected_components(G)` and `G.subgraph(c).copy()`)\n",
    ">   * Choose a node at random from the GCC. (Hint: You may want to try `random.choice`.)\n",
    ">   * Find all nodes that are precisely 2 steps away from that node. (Hint. I suggest `networkx.single_source_shortest_path_length`)\n",
    ">   * Plot the GCC with the following choice of colors. Starting node _black_ (`\"#000000\"`). The nodes 2 steps away _red_ (`\"#ff0000\"`). All other nodes _blue_ (`\"#A0CBE2\"`). Again, I suggest using `networkx.draw()` and reading [the documentation](https://networkx.github.io/documentation/stable/reference/drawing.html) carefully find out how to color individual nodes.\n",
    "> \n",
    "\n",
    "By the way, the default plot coming out of `networkx` doesn't look like the one below. But by tweaking parameters, you should be able to create something that looks like it.\n",
    "\n",
    "![Sune's Network](https://raw.githubusercontent.com/suneman/socialgraphs2019/master/files/edge_colormap.png)"
   ]
  },
  {
   "cell_type": "code",
   "execution_count": 59,
   "metadata": {},
   "outputs": [],
   "source": [
    "# 1. Generate a random network with 200 nodes and an average degree of 1.5.\n",
    "N = 200\n",
    "k_avg = 1.5\n",
    "p = k_avg / (N - 1)\n",
    "G = nx.erdos_renyi_graph(N, p)"
   ]
  },
  {
   "cell_type": "code",
   "execution_count": 60,
   "metadata": {},
   "outputs": [],
   "source": [
    "# 2. Extract the Giant Connected Component (GCC).\n",
    "GCC_subgraphs = sorted(nx.connected_components(G), key=len, reverse=True)\n",
    "GCC = G.subgraph(GCC_subgraphs[0]).copy()"
   ]
  },
  {
   "cell_type": "code",
   "execution_count": 66,
   "metadata": {},
   "outputs": [
    {
     "data": {
      "text/plain": [
       "62"
      ]
     },
     "execution_count": 66,
     "metadata": {},
     "output_type": "execute_result"
    }
   ],
   "source": [
    "# 3. Choose a random node from the GCC.\n",
    "random_node = random.choice(list(GCC.nodes))\n",
    "random_node"
   ]
  },
  {
   "cell_type": "code",
   "execution_count": 68,
   "metadata": {},
   "outputs": [
    {
     "data": {
      "text/plain": [
       "[36, 199, 79, 184, 155]"
      ]
     },
     "execution_count": 68,
     "metadata": {},
     "output_type": "execute_result"
    }
   ],
   "source": [
    "# 4. Find all nodes that are 2 steps away from the chosen node.\n",
    "two_steps_away = [node for node, length in nx.single_source_shortest_path_length(GCC, random_node).items() if length == 2]\n",
    "two_steps_away"
   ]
  },
  {
   "cell_type": "code",
   "execution_count": 71,
   "metadata": {},
   "outputs": [
    {
     "data": {
      "image/png": "[encoded data removed]",
      "text/plain": [
       "<Figure size 432x288 with 1 Axes>"
      ]
     },
     "metadata": {},
     "output_type": "display_data"
    }
   ],
   "source": [
    "# 5. Plot the GCC with the specific color criteria mentioned.\n",
    "node_colors = []\n",
    "for node in GCC.nodes():\n",
    "    if node == random_node:\n",
    "        node_colors.append(\"#000000\")  # black for the starting node\n",
    "    elif node in two_steps_away:\n",
    "        node_colors.append(\"#ff0000\")  # red for nodes 2 steps away\n",
    "    else:\n",
    "        node_colors.append(\"#A0CBE2\")  # blue for all other nodes\n",
    "\n",
    "nx.draw(GCC, node_size=50, node_color=node_colors)\n",
    "plt.show()"
   ]
  },
  {
   "cell_type": "code",
   "execution_count": null,
   "metadata": {},
   "outputs": [],
   "source": []
  }
 ],
 "metadata": {
  "anaconda-cloud": {},
  "kernelspec": {
   "display_name": "Python 3 (ipykernel)",
   "language": "python",
   "name": "python3"
  },
  "language_info": {
   "codemirror_mode": {
    "name": "ipython",
    "version": 3
   },
   "file_extension": ".py",
   "mimetype": "text/x-python",
   "name": "python",
   "nbconvert_exporter": "python",
   "pygments_lexer": "ipython3",
   "version": "3.10.4"
  }
 },
 "nbformat": 4,
 "nbformat_minor": 1
}
