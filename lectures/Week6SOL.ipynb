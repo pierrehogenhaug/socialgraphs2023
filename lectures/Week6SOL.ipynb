{
 "cells": [
  {
   "cell_type": "markdown",
   "metadata": {},
   "source": [
    "# Overview\n",
    "\n",
    "We're now switching focus away from Network Science (for a little bit), beginning to think about _Natural Language Processing_ instead. In other words, today will be all about teaching your computer to \"understand\" text. This ties in nicely with our work on the rappers network, since it is built on the rapper Wikipedia pages which contain pieces of text. We've looked at the network so far - now, let's see if we can include the text. Today is about \n",
    "\n",
    "* Installing the _natural language toolkit_ (NLTK) package and learning the basics of how it works (Chapter 1)\n",
    "* Figuring out how to make NLTK to work with other types of text (Chapter 2).\n",
    "\n",
    "> _Reading_\n",
    "> The reading for today is Natural Language Processing with Python (NLPP) Chapter 1 and 2. [It's free online](http://www.nltk.org/book/). "
   ]
  },
  {
   "cell_type": "markdown",
   "metadata": {},
   "source": [
    "# Part 1: A little lecture\n",
    "\n",
    "> [**_Video Lecture_**](https://www.dropbox.com/scl/fi/vj2h6pekdl6y8yid070y5/NLP_Intro.mp4?rlkey=kajuxgfl413ql3q1qwdrqf9ok&dl=0). Today is all about ***working*** with NLTK, so not much lecturing - just a few words on NLP."
   ]
  },
  {
   "cell_type": "markdown",
   "metadata": {},
   "source": [
    "# Part 2: Installing and the basics"
   ]
  },
  {
   "cell_type": "markdown",
   "metadata": {},
   "source": [
    "## 2.1 NLTK Install tips \n",
    "\n",
    "Check to see if `nltk` is installed on your system by typing `import nltk` in a `notebook`. If it's not already installed, install it as part of _Anaconda_ by typing \n",
    "\n",
    "     conda install nltk \n",
    "\n",
    "at the command prompt. If you don't have them, you can download the various corpora using a command-line version of the downloader that runs in Python notebooks (as mentioned in Ch. 1 Sec. 1.2 of the book): \n",
    "\n",
    "In the Jupyter notebook, run the code \n",
    "\n",
    " `import nltk`\n",
    " \n",
    " `nltk.download()`\n",
    "\n",
    "Now you can hit `d` to download, then type \"book\" to fetch the collection needed today's `nltk` session. Now that everything is up and running, let's get to the actual exercises.\n",
    "\n",
    "**Note**: If, instead of opening the pop-up, your Kernel dies, you can direclty download the collection by typing `nltk.download(\"book\")` instead."
   ]
  },
  {
   "cell_type": "code",
   "execution_count": 1,
   "metadata": {},
   "outputs": [],
   "source": [
    "import nltk"
   ]
  },
  {
   "cell_type": "markdown",
   "metadata": {},
   "source": [
    "## 2.2 Introduction to NLTK"
   ]
  },
  {
   "cell_type": "markdown",
   "metadata": {},
   "source": [
    "1. Now that you have `nltk` installed, work through Chapter 1, Sections 1 to 4. The book is set up as a kind of tutorial with lots of examples for you to work through. I recommend you read the text with an open Jupyter Notebook and type out the examples that you see. ***It becomes much more fun if you add a few variations and see what happens***. We tweaked some of these examples in the following exercises and they might very well be due as assignments, so those ones should definitely be in a `notebook`."
   ]
  },
  {
   "cell_type": "markdown",
   "metadata": {},
   "source": [
    "2. Now that you have gone through Chapter 1, let's try some of the `nltk` functionalities on our own Text!\n",
    "\n",
    "> Setup. We want to start from a clean version of the rapper Wikipedia pages. A version with as little wiki-markup as possible. We needed it earlier to get the links, but now we want a readable version. To do this we need to create 10 new regex patterns and parse the pages ... \n",
    ">\n",
    "> No! Don't worry! We can get a fairly nice version directly from the Wikipedia API. Follow the instructions below:\n",
    ">\n",
    "> * read the [csv file](https://github.com/SocialComplexityLab/socialgraphs2023/blob/main/files/Rappers.csv) of the rappers with pandas `pd.read_csv()` and assign it to `df_rappers`, but change the parameters that you use to call the api to:      \n",
    "    - `\"action\": \"query\"`   \n",
    "    - `\"prop\": \"extracts\"`,\n",
    "    - `\"exlimit\":\"1\"`,\n",
    "    - `\"explaintext\": \"1\"`,\n",
    "    - `\"format\": \"json\"`,\n",
    "    - `\"titles\": [INSERT NAME OF THE RAPPER]` \n",
    "> * loop through the `Name` column of `df_rappers` and for each name make a request to the API\n",
    ">     * **Note1** if you are using the `urllib`, replace white spaces with `_` and use `urllib.parse.quote_plus(NAME_OF_RAPPER_HERE)` to build your title;\n",
    "> * after using `json` to load the text, remember to get the value (the clean text we are looking for) from the right key \n",
    ">     * **Note2** the key you are looking for is now `extract` and not `*`; check that your code gets the right page (you may have to do a manual exploration of the json structure again.\n",
    ">\n",
    "> Use this method to retrieve a nice copy of all rappers' text. Save each rapper's text in a txt file and collect them all in a new folder!"
   ]
  },
  {
   "cell_type": "code",
   "execution_count": 2,
   "metadata": {},
   "outputs": [],
   "source": [
    "import json\n",
    "import os\n",
    "import pandas as pd\n",
    "import re\n",
    "import urllib\n",
    "\n",
    "# URL of the CSV file\n",
    "rappers_url = 'https://raw.githubusercontent.com/SocialComplexityLab/socialgraphs2023/main/files/Rappers.csv'\n",
    "\n",
    "# Reading the CSV file into a pandas DataFrame\n",
    "df_rappers = pd.read_csv(rappers_url)"
   ]
  },
  {
   "cell_type": "code",
   "execution_count": 3,
   "metadata": {},
   "outputs": [
    {
     "data": {
      "text/html": [
       "<div>\n",
       "<style scoped>\n",
       "    .dataframe tbody tr th:only-of-type {\n",
       "        vertical-align: middle;\n",
       "    }\n",
       "\n",
       "    .dataframe tbody tr th {\n",
       "        vertical-align: top;\n",
       "    }\n",
       "\n",
       "    .dataframe thead th {\n",
       "        text-align: right;\n",
       "    }\n",
       "</style>\n",
       "<table border=\"1\" class=\"dataframe\">\n",
       "  <thead>\n",
       "    <tr style=\"text-align: right;\">\n",
       "      <th></th>\n",
       "      <th>WikipediaPageName</th>\n",
       "      <th>Coast</th>\n",
       "    </tr>\n",
       "  </thead>\n",
       "  <tbody>\n",
       "    <tr>\n",
       "      <th>0</th>\n",
       "      <td>6ix9ine</td>\n",
       "      <td>East</td>\n",
       "    </tr>\n",
       "    <tr>\n",
       "      <th>1</th>\n",
       "      <td>9th Prince</td>\n",
       "      <td>East</td>\n",
       "    </tr>\n",
       "    <tr>\n",
       "      <th>2</th>\n",
       "      <td>22Gz</td>\n",
       "      <td>East</td>\n",
       "    </tr>\n",
       "    <tr>\n",
       "      <th>3</th>\n",
       "      <td>38 Spesh</td>\n",
       "      <td>East</td>\n",
       "    </tr>\n",
       "    <tr>\n",
       "      <th>4</th>\n",
       "      <td>The 45 King</td>\n",
       "      <td>East</td>\n",
       "    </tr>\n",
       "    <tr>\n",
       "      <th>...</th>\n",
       "      <td>...</td>\n",
       "      <td>...</td>\n",
       "    </tr>\n",
       "    <tr>\n",
       "      <th>796</th>\n",
       "      <td>Young L</td>\n",
       "      <td>West</td>\n",
       "    </tr>\n",
       "    <tr>\n",
       "      <th>797</th>\n",
       "      <td>Yukmouth</td>\n",
       "      <td>West</td>\n",
       "    </tr>\n",
       "    <tr>\n",
       "      <th>798</th>\n",
       "      <td>Arif Zahir</td>\n",
       "      <td>West</td>\n",
       "    </tr>\n",
       "    <tr>\n",
       "      <th>799</th>\n",
       "      <td>Zealous1</td>\n",
       "      <td>West</td>\n",
       "    </tr>\n",
       "    <tr>\n",
       "      <th>800</th>\n",
       "      <td>Asaiah Ziv</td>\n",
       "      <td>West</td>\n",
       "    </tr>\n",
       "  </tbody>\n",
       "</table>\n",
       "<p>801 rows × 2 columns</p>\n",
       "</div>"
      ],
      "text/plain": [
       "    WikipediaPageName Coast\n",
       "0             6ix9ine  East\n",
       "1          9th Prince  East\n",
       "2                22Gz  East\n",
       "3            38 Spesh  East\n",
       "4         The 45 King  East\n",
       "..                ...   ...\n",
       "796           Young L  West\n",
       "797          Yukmouth  West\n",
       "798        Arif Zahir  West\n",
       "799          Zealous1  West\n",
       "800        Asaiah Ziv  West\n",
       "\n",
       "[801 rows x 2 columns]"
      ]
     },
     "execution_count": 3,
     "metadata": {},
     "output_type": "execute_result"
    }
   ],
   "source": [
    "df_rappers"
   ]
  },
  {
   "cell_type": "code",
   "execution_count": 4,
   "metadata": {},
   "outputs": [],
   "source": [
    "# Wikipedia API base URL\n",
    "wiki_api_base = \"https://en.wikipedia.org/w/api.php\"\n",
    "\n",
    "# Define function to fetch the wikipedia page content using the API\n",
    "def get_clean_wiki_content(page_title):\n",
    "    # Encoding page title to be URL safe (no spaces etc.)\n",
    "    page_title_encoded = urllib.parse.quote_plus(page_title.replace(' ', '_'))\n",
    "    query = f\"{wiki_api_base}?action=query&prop=extracts&exlimit=1&explaintext=1&format=json&titles={page_title_encoded}\"\n",
    "\n",
    "    with urllib.request.urlopen(query) as url:\n",
    "        data = json.loads(url.read().decode())\n",
    "        page = next(iter(data['query']['pages'].values()))\n",
    "        content = page['extract'] if 'extract' in page else ''\n",
    " \n",
    "    return content\n",
    "\n",
    "# Directory to save the text files\n",
    "if not os.path.exists('rappers_text'):\n",
    "    os.makedirs('rappers_text')\n",
    "\n",
    "for rapper_name in df_rappers['WikipediaPageName']:\n",
    "    #print(f\"Fetching content for {rapper_name}...\")\n",
    "    page_content = get_clean_wiki_content(rapper_name)\n",
    "\n",
    "    # Clean the filename using a regular expression to replace invalid characters with \"_\"\n",
    "    clean_filename = re.sub(r'[^a-zA-Z0-9_]', '_', rapper_name)\n",
    "    \n",
    "    # Save to a text file\n",
    "    with open(f\"rappers_text/{clean_filename}.txt\", 'w', encoding='utf-8') as file:\n",
    "        file.write(page_content)"
   ]
  },
  {
   "cell_type": "code",
   "execution_count": 5,
   "metadata": {},
   "outputs": [],
   "source": [
    "# Print the list of files saved\n",
    "saved_files = os.listdir('rappers_text')\n",
    "#print(saved_files)"
   ]
  },
  {
   "cell_type": "markdown",
   "metadata": {},
   "source": [
    "\n",
    "> Finally, we can create our own corpus (see Ch. 2 Sec. 1.9 for more details):\n",
    ">    * create a list of file names `file_list` and order them with the same order in `df_rappers`, e.g., 03_Greedo.txt first, 22Gz.txt second, etc.\n",
    ">    * use the function `PlaintextCorpusReader` from `nltk.corpus` to create the rapper corpus.\n",
    ">    * use the function `nltk.Text()` as follows `nltk.Text(YOUR_CORPUS_HERE.words())`.\n",
    ">\n",
    "> Now you can use this nltk Text object as any other you've seen in the examples of Chapter 1!!"
   ]
  },
  {
   "cell_type": "code",
   "execution_count": 7,
   "metadata": {},
   "outputs": [
    {
     "name": "stdout",
     "output_type": "stream",
     "text": [
      "Files in the directory:\n",
      "\n",
      "DataFrame content:\n",
      "  WikipediaPageName Coast\n",
      "0           6ix9ine  East\n",
      "1        9th Prince  East\n",
      "2              22Gz  East\n",
      "3          38 Spesh  East\n",
      "4       The 45 King  East\n",
      "\n",
      "Generated file list:\n",
      "\n",
      "Files in the corpus:\n"
     ]
    }
   ],
   "source": [
    "from nltk.corpus.reader.plaintext import PlaintextCorpusReader\n",
    "from nltk.text import Text\n",
    "\n",
    "# Ensure the directory is correct\n",
    "corpus_root = 'rappers_text/'\n",
    "\n",
    "# Print all files in the directory\n",
    "print(\"Files in the directory:\")\n",
    "#for filename in os.listdir(corpus_root):\n",
    "    #print(filename)\n",
    "\n",
    "# Ensure df_rappers contains the correct data\n",
    "print(\"\\nDataFrame content:\")\n",
    "print(df_rappers.head())\n",
    "\n",
    "# Create a list of file names\n",
    "file_list = [f\"{re.sub(r'[^a-zA-Z0-9_]', '_', rapper_name)}.txt\" for rapper_name in df_rappers['WikipediaPageName']]\n",
    "\n",
    "# Print the generated file list\n",
    "print(\"\\nGenerated file list:\")\n",
    "#print(file_list)\n",
    "\n",
    "# Use PlaintextCorpusReader to read the corpus\n",
    "rapper_corpus = PlaintextCorpusReader(corpus_root, file_list)\n",
    "\n",
    "# Print the files in the corpus to check if everything is correct\n",
    "print(\"\\nFiles in the corpus:\")\n",
    "#print(rapper_corpus.fileids())\n",
    "\n",
    "# Convert the corpus into NLTK Text objects\n",
    "rapper_texts = Text(rapper_corpus.words())"
   ]
  },
  {
   "cell_type": "code",
   "execution_count": 8,
   "metadata": {},
   "outputs": [
    {
     "name": "stdout",
     "output_type": "stream",
     "text": [
      "\n",
      "First 500 words from the corpus:\n",
      "['Daniel', 'Hernandez', '(', 'born', 'May', '8', ',', '1996', '),', 'known', 'professionally', 'as', '6ix9ine', '(', 'stylized', '6IX9INE', 'and', 'pronounced', '\"', 'six', 'nine', '\")', 'and', 'also', 'as', 'Tekashi69', ',', 'is', 'an', 'American', 'rapper', '.', 'His', 'music', 'has', 'been', 'marked', 'by', 'an', 'aggressive', 'style', 'of', 'rapping', ',', 'while', 'his', 'controversial', 'public', 'persona', 'is', 'characterized', 'by', 'his', 'distinctive', 'rainbow', '-', 'colored', 'hair', ',', 'extensive', 'tattoos', ',', 'legal', 'issues', ',', 'and', 'publicized', 'celebrity', 'feuds', '.', 'Hernandez', 'became', 'widely', 'known', 'in', '2017', 'after', 'his', 'feature', 'on', 'Trippie', 'Redd', \"'\", 's', '\"', 'Poles', '1469', '\"', 'and', 'the', 'release', 'of', 'his', 'debut', 'solo', 'single', ',', '\"', 'Gummo', '\",', 'which', 'was', 'a', 'sleeper', 'hit', '.', 'He', 'subsequently', 'released', 'the', 'mixtape', 'Day69', '(', '2018', '),', 'which', 'was', 'further', 'supported', 'by', 'the', 'singles', '\"', 'Kooda', '\",', '\"', 'Keke', '\"', '(', 'with', 'Fetty', 'Wap', 'and', 'A', 'Boogie', 'wit', 'da', 'Hoodie', '),', 'and', '\"', 'Gotti', '\",', 'all', 'of', 'which', 'charted', 'on', 'the', 'Billboard', 'Hot', '100', '.', '\"', 'Fefe', '\"', '(', 'with', 'Nicki', 'Minaj', 'and', 'Murda', 'Beatz', '),', 'the', 'second', 'single', 'from', 'his', 'debut', 'album', 'Dummy', 'Boy', '(', '2018', '),', 'peaked', 'at', 'number', 'three', 'on', 'the', 'Hot', '100', '.', 'Despite', 'negative', 'critical', 'reception', ',', 'Dummy', 'Boy', 'peaked', 'at', 'number', 'two', 'on', 'the', 'Billboard', '200', 'and', 'was', 'certified', 'platinum', 'by', 'the', 'RIAA', '.', 'In', '2015', ',', 'Hernandez', 'pleaded', 'guilty', 'to', 'a', 'felony', 'count', 'of', 'use', 'of', 'a', 'child', 'in', 'a', 'sexual', 'performance', 'and', 'received', 'a', 'four', '-', 'year', 'probation', 'period', 'and', 'a', '1', ',', '000', '-', 'hour', 'community', 'service', 'order', '.', 'In', '2018', ',', 'he', 'was', 'arrested', 'on', 'racketeering', 'and', 'other', 'weapons', 'and', 'drug', 'charges', '.', 'Facing', 'a', 'minimum', 'of', '47', 'years', 'in', 'prison', ',', 'he', 'pleaded', 'guilty', 'to', 'nine', 'charges', 'including', 'conspiracy', 'to', 'commit', 'murder', 'and', 'armed', 'robbery', 'in', 'February', '2019', '.', 'During', 'the', 'trial', ',', 'Hernandez', 'testified', 'for', 'the', 'prosecution', 'against', 'other', 'Nine', 'Trey', 'gang', 'members', 'and', 'was', 'sentenced', 'to', 'two', 'years', 'in', 'prison', '.', 'In', 'April', '2020', ',', 'he', 'was', 'granted', 'early', 'release', 'during', 'the', 'COVID', '-', '19', 'pandemic', 'following', 'fears', 'over', 'his', 'vulnerability', 'to', 'the', 'disease', 'due', 'to', 'his', 'asthma', 'condition', '.', 'He', 'was', 'put', 'on', 'house', 'arrest', 'for', 'the', 'remainder', 'of', 'his', 'term', 'and', 'was', 'released', 'in', 'early', 'August', '2020', '.', 'Hernandez', 'briefly', 'maintained', 'commercial', 'success', 'following', 'his', 'release', 'from', 'prison', 'as', 'his', 'singles', '\"', 'Gooba', '\"', 'and', '\"', 'Trollz', '\"', '(', 'with', 'Nicki', 'Minaj', ')', 'debuted', 'at', 'number', 'three', 'and', 'number', 'one', 'respectively', 'on', 'the', 'Hot', '100', '.', 'His', 'second', 'album', ',', 'TattleTales', '(', '2020', ')', 'debuted', 'at', 'number', 'four', 'on', 'the', 'US', 'Billboard', '200', ',', 'while', 'his', 'third', 'album', ',', 'Leyenda', 'Viva', '(', '2023', ')—', 'his', 'first', 'reggaeton', 'album', '—', 'failed', 'to', 'make', 'any', 'worldwide', 'chart', 'impact', '.', 'Due', 'to', 'his', 'role', 'as', 'an', 'informant', 'in', 'the', 'Nine', 'Trey', 'Gangsters', 'trial', ',', 'several', 'major', 'hip', 'hop', 'figures', 'and', 'personalities', 'have', 'since', 'condemned', 'or', 'ostracized', 'Hernandez', ',', 'leading', 'to', 'a', 'severe', 'decimation', 'of', 'his', 'public', 'image', '.', '==', 'Early', 'life', '==', 'Daniel', 'Hernandez', 'was', 'born', 'on', 'May', '8', ',', '1996', ',', 'in', 'the', 'Bushwick', 'neighborhood', 'of', 'Brooklyn', ',', 'New']\n"
     ]
    }
   ],
   "source": [
    "# Print the first 500 words from the corpus\n",
    "print(\"\\nFirst 500 words from the corpus:\")\n",
    "print(rapper_texts[:500])"
   ]
  },
  {
   "cell_type": "markdown",
   "metadata": {},
   "source": [
    "### 2.3 Exercises: NLPP Chapter 1 \n",
    "(the stuff that might be due in an upcoming assignment)\n",
    "\n",
    "The following exercises are from Chapter 1 but we are going to use them to study the rapper Wikipedia text."
   ]
  },
  {
   "cell_type": "markdown",
   "metadata": {},
   "source": [
    "> *Exercise 1*: Exploratory analysis\n",
    ">\n",
    "> * Try out the `concordance` method, using the rapper Wikipedia text and a word of your own choosing.\n"
   ]
  },
  {
   "cell_type": "code",
   "execution_count": 9,
   "metadata": {},
   "outputs": [
    {
     "name": "stdout",
     "output_type": "stream",
     "text": [
      "Displaying 25 of 3809 matches:\n",
      "ashi69 , is an American rapper . His music has been marked by an aggressive sty\n",
      " to help his mother financially . == Music career == === 2012 – 2016 : Early ca\n",
      "ve rapping style and use of anime as music video visuals . Many of his early so\n",
      " songs were released by FCK THEM , a music label based in Slovakia . He adopted\n",
      "ho had previously worked with him on music videos to work on videos again along\n",
      "s to work on videos again along with music . === 2017 – 2018 : Day69 and Dummy \n",
      "ooting , Hernandez stopped releasing music for several months , before releasin\n",
      "ed a publishing deal with LA - based music company Create Music Group . In earl\n",
      "with LA - based music company Create Music Group . In early October 2018 , Hern\n",
      "bum . === 2019 – present : Return to music and TattleTales === In October 2019 \n",
      "May 8 , 2020 , marking his return to music and on his 24th birthday . The song \n",
      " \" Gooba \", was released alongside a music video . According to Pitchfork ' s M\n",
      "ented the treatment he received from music platforms Spotify and Apple Music wi\n",
      "om music platforms Spotify and Apple Music with them not displaying that he had\n",
      "explaining that he views this as the music industry using these platforms ' inf\n",
      "yle and influences === Hernandez ' s music is generally categorized as hip hop \n",
      "hardcore punk , grime , crunk , trap music , and reggaeton . He cites influence\n",
      " of the incident online as part of a music video . Three videos are described i\n",
      "oklyn . He had finished shooting the music video for \" FEFE \" ( featuring Nicki\n",
      "ed the Dominican Republic to shoot a music video . While there , Hernandez hand\n",
      "was featured in XXL Magazine for his music in 2009 . Shortly after his initial \n",
      "an to pursue a full - time career in music . Following his release , Spesh bega\n",
      "ffiliated with his Trust Comes First Music group . Spesh ' s musical style is h\n",
      "ers Convention album on the UK label Music of Life , which is considered by man\n",
      "ig Mack – The Wooden Horse – NY . LA Music , 2001 Rakim – How I Get Down – Univ\n"
     ]
    }
   ],
   "source": [
    "# Concordence method is used to find every occurence of a specific word along with some context\n",
    "\n",
    "# Using the method with the word 'music'\n",
    "rapper_texts.concordance('music')"
   ]
  },
  {
   "cell_type": "markdown",
   "metadata": {},
   "source": [
    "> * Also try out the `similar` and `common_contexts` methods, again with any words you like.\n",
    "> * Create the rapper Wikipedia version of a dispersion plot:\n",
    ">    1. try your own version of the dispersion plot (use any set of words you like but remember to explain what you observe).\n",
    "\n",
    "- `similar` method finds words that appear in a similar context or range of contexts as the specified word\n",
    "- `common_contexts` examines the contexts that are shared by two or more words\n"
   ]
  },
  {
   "cell_type": "code",
   "execution_count": 10,
   "metadata": {},
   "outputs": [
    {
     "name": "stdout",
     "output_type": "stream",
     "text": [
      "the album songs and rap life in career it production tracks song work\n",
      "time lyrics record film albums death style\n"
     ]
    }
   ],
   "source": [
    "rapper_texts.similar('music')"
   ]
  },
  {
   "cell_type": "code",
   "execution_count": 11,
   "metadata": {},
   "outputs": [
    {
     "name": "stdout",
     "output_type": "stream",
     "text": [
      "a_video the_industry his_career the_and best_video first_video\n",
      "her_career to_and the_business of_in a_career s_was best_group of_and\n",
      "to_by of_to taking_seriously to_at dance_and of_including\n"
     ]
    }
   ],
   "source": [
    "rapper_texts.common_contexts(['music', 'rap'])"
   ]
  },
  {
   "cell_type": "code",
   "execution_count": 12,
   "metadata": {},
   "outputs": [
    {
     "data": {
      "image/png": "[encoded data removed]",
      "text/plain": [
       "<Figure size 432x288 with 1 Axes>"
      ]
     },
     "metadata": {
      "needs_background": "light"
     },
     "output_type": "display_data"
    }
   ],
   "source": [
    "import matplotlib.pyplot as plt\n",
    "\n",
    "# Dispersion plot for a set of words\n",
    "rapper_texts.dispersion_plot(['music', 'rap', 'album', 'prison', 'gang', 'drugs'])\n",
    "\n",
    "plt.show()"
   ]
  },
  {
   "cell_type": "markdown",
   "metadata": {},
   "source": [
    "> * What is a bigram? How does it relate to `collocations`. Explain in your own words.\n",
    ">    1. Compute the collocations on the rapper Wikipedia Text.\n",
    "\n",
    "**Solution:**\n",
    "- A bigram is a sequence of two adjecent elements (words or letters) from a string of tokens.\n",
    "- Collocations are the occurrence of two or more words that appear often together (more than random). \n",
    "\n",
    "Thus, **a bigram** can be seen as a **collocation** when it appears more frequently than would be expected by chance.\n"
   ]
  },
  {
   "cell_type": "code",
   "execution_count": 13,
   "metadata": {},
   "outputs": [
    {
     "name": "stdout",
     "output_type": "stream",
     "text": [
      "New York; hip hop; External links; Los Angeles; studio album; stage\n",
      "name; Billboard 200; Hot 100; music video; American rapper; Hip Hop;\n",
      "Early life; Snoop Dogg; United States; York City; better known; debut\n",
      "album; Billboard Hot; High School; Def Jam\n"
     ]
    }
   ],
   "source": [
    "# nltk.download('stopwords')\n",
    "\n",
    "rapper_texts.collocations()"
   ]
  },
  {
   "cell_type": "markdown",
   "metadata": {},
   "source": [
    "> * Review the discussion of conditionals in Sec. 4. Find all words in the rapper Wikipedia Text starting with the letter *h*. Show the first 5 in alphabetical order. Try with a few other letters. Any fun examples of top-five words?\n"
   ]
  },
  {
   "cell_type": "code",
   "execution_count": 14,
   "metadata": {},
   "outputs": [
    {
     "name": "stdout",
     "output_type": "stream",
     "text": [
      "['h', 'h', 'h', 'h', 'h', 'h', 'h', 'h', 'h', 'h', 'h', 'h', 'h', 'h', 'h', 'h', 'h10010005', 'hEARTS', 'ha', 'ha', 'ha', 'habit', 'habit', 'habits', 'hackathon']\n"
     ]
    }
   ],
   "source": [
    "h_words = sorted([w for w in rapper_texts if w.startswith('h')])\n",
    "\n",
    "# Print the first 5 in alphabetical order\n",
    "print(h_words[:25])"
   ]
  },
  {
   "cell_type": "markdown",
   "metadata": {},
   "source": [
    "> * Use `.index()` to find the index of the word *Snoop*. You'll need to insert this word as an argument between the parentheses. By a process of trial and error, find the slice for the complete sentence that contains this word."
   ]
  },
  {
   "cell_type": "code",
   "execution_count": 15,
   "metadata": {},
   "outputs": [
    {
     "name": "stdout",
     "output_type": "stream",
     "text": [
      "Air Tonight \", performed by Snoop Dogg , Chris Stapleton ,\n"
     ]
    }
   ],
   "source": [
    "index_snoop = rapper_texts.index('Snoop')\n",
    "\n",
    "# Print the sentence containing the word 'Snoop'\n",
    "print(' '.join(rapper_texts[index_snoop - 5 : index_snoop + 6]))"
   ]
  },
  {
   "cell_type": "markdown",
   "metadata": {},
   "source": [
    "> * Review the discussion of looping with conditions in Sec 4. Use a combination of `for` and `if` statements to loop over the words of the rapper Wikipedia text and print the 5 longest uppercase words, one per line."
   ]
  },
  {
   "cell_type": "code",
   "execution_count": 16,
   "metadata": {},
   "outputs": [
    {
     "name": "stdout",
     "output_type": "stream",
     "text": [
      "CHRISTMAKWHANNUVUSWALIYEARS\n",
      "SHINIGAMISTARSHIP\n",
      "AREYOUREADYKIDS\n",
      "MERRYPOCALYPSE\n",
      "CHAMILLIONAIRE\n"
     ]
    }
   ],
   "source": [
    "uppercase_words = [w for w in rapper_texts if w.isupper()]\n",
    "\n",
    "sorted_uppercase_words = sorted(uppercase_words, key=len, reverse=True)\n",
    "\n",
    "for word in sorted_uppercase_words[:5]:\n",
    "    print(word)\n"
   ]
  },
  {
   "cell_type": "markdown",
   "metadata": {},
   "source": [
    "> *Exercise 2*: Basic stats\n",
    ">\n",
    "> * How many tokens are there in the rapper Wikipedia text? How many distinct tokens are there?\n"
   ]
  },
  {
   "cell_type": "code",
   "execution_count": 17,
   "metadata": {},
   "outputs": [
    {
     "name": "stdout",
     "output_type": "stream",
     "text": [
      "Total tokens: 1201568\n",
      "Distinct tokens: 42688\n"
     ]
    }
   ],
   "source": [
    "total_tokens = len(rapper_texts)\n",
    "\n",
    "distinct_tokens = len(set(rapper_texts))\n",
    "\n",
    "print(f\"Total tokens: {total_tokens}\")\n",
    "print(f\"Distinct tokens: {distinct_tokens}\")"
   ]
  },
  {
   "cell_type": "markdown",
   "metadata": {},
   "source": [
    "> * Explain in your own words what aspect of language _lexical diversity_ describes. \n",
    ">     1. Compute the lexical diversity of the rapper Wikipedia text;\n",
    ">     2. Compute the lexical diversity related to West (coast) and East (coast). Comment on your results.\n"
   ]
  },
  {
   "cell_type": "code",
   "execution_count": 18,
   "metadata": {},
   "outputs": [
    {
     "name": "stdout",
     "output_type": "stream",
     "text": [
      "Lexical diversity: 0.03481020981136045\n",
      "Lexical diversity: 0.03552691150230366\n"
     ]
    }
   ],
   "source": [
    "from nltk.tokenize import word_tokenize\n",
    "import pickle\n",
    "\n",
    "# Compute lexical diversity\n",
    "def lexical_diversity(text):\n",
    "    return len(set(text)) / len(text)\n",
    "\n",
    "## Tokenize the texts before passing them to the lexical_diversity function\n",
    "# tokenized_rapper_texts = word_tokenize(' '.join(rapper_texts))\n",
    "with open('tokenized_rapper_texts.pkl', 'rb') as f:\n",
    "    tokenized_rapper_texts = pickle.load(f)\n",
    "\n",
    "# Lexical diversity of the rapper Wikipedia text\n",
    "lex_div = lexical_diversity(tokenized_rapper_texts)\n",
    "print(f\"Lexical diversity: {lex_div}\")\n",
    "\n",
    "# Lexical diversity of the rapper Wikipedia text\n",
    "lex_div = lexical_diversity(rapper_texts)\n",
    "print(f\"Lexical diversity: {lex_div}\")"
   ]
  },
  {
   "cell_type": "code",
   "execution_count": 19,
   "metadata": {},
   "outputs": [],
   "source": [
    "# A dictionary to hold rappers' texts by coast\n",
    "rappers_texts_by_coast = {'East': [], 'West': []}\n",
    "\n",
    "for index, row in df_rappers.iterrows():\n",
    "    coast = row['Coast']\n",
    "    rapper_name = row['WikipediaPageName']\n",
    "\n",
    "    # Fetch the text (I'm using your existing function here)\n",
    "    page_content = get_clean_wiki_content(rapper_name.replace(' ', '_'))\n",
    "\n",
    "    # Add the text to the appropriate list in the dictionary\n",
    "    rappers_texts_by_coast[coast].append(page_content)"
   ]
  },
  {
   "cell_type": "code",
   "execution_count": 20,
   "metadata": {},
   "outputs": [
    {
     "name": "stdout",
     "output_type": "stream",
     "text": [
      "East Coast Lexical Diversity: 0.05280237518170617\n",
      "West Coast Lexical Diversity: 0.06704353181717232\n"
     ]
    }
   ],
   "source": [
    "# Tokenize the texts by coast\n",
    "# tokenized_east_coast_texts = word_tokenize(' '.join(rappers_texts_by_coast['East']))\n",
    "with open('tokenized_east_coast_texts.pkl', 'rb') as f:\n",
    "    tokenized_east_coast_texts = pickle.load(f)\n",
    "\n",
    "# tokenized_west_coast_texts = word_tokenize(' '.join(rappers_texts_by_coast['West']))\n",
    "with open('tokenized_west_coast_texts.pkl', 'rb') as f:\n",
    "    tokenized_west_coast_texts = pickle.load(f)\n",
    "\n",
    "# Compute lexical diversity for East Coast and West Coast rappers\n",
    "east_coast_lex_div = lexical_diversity(tokenized_east_coast_texts)\n",
    "west_coast_lex_div = lexical_diversity(tokenized_west_coast_texts)\n",
    "\n",
    "print(f\"East Coast Lexical Diversity: {east_coast_lex_div}\")\n",
    "print(f\"West Coast Lexical Diversity: {west_coast_lex_div}\")"
   ]
  },
  {
   "cell_type": "markdown",
   "metadata": {},
   "source": [
    "> * Create frequency distributions for the rapper Wikipedia text, including the cumulative frequency plot for the 75 most common tokens. \n"
   ]
  },
  {
   "cell_type": "code",
   "execution_count": 21,
   "metadata": {},
   "outputs": [
    {
     "data": {
      "image/png": "[encoded data removed]",
      "text/plain": [
       "<Figure size 1008x576 with 1 Axes>"
      ]
     },
     "metadata": {
      "needs_background": "light"
     },
     "output_type": "display_data"
    }
   ],
   "source": [
    "from nltk.probability import FreqDist\n",
    "\n",
    "# Create frequency distribution\n",
    "fdist = FreqDist(rapper_texts)\n",
    "\n",
    "plt.figure(figsize=(14,8))\n",
    "fdist.plot(75, cumulative=True)\n",
    "plt.show()"
   ]
  },
  {
   "cell_type": "markdown",
   "metadata": {},
   "source": [
    "> * Find all the four-letter tokens in the rapper Wikipedia text. With the help of a frequency distribution (FreqDist), show these tokens in decreasing order of frequency.\n"
   ]
  },
  {
   "cell_type": "code",
   "execution_count": 22,
   "metadata": {},
   "outputs": [
    {
     "name": "stdout",
     "output_type": "stream",
     "text": [
      "FreqDist({'with': 10472, 'from': 5398, 'that': 4975, 'also': 2806, 'song': 2608, '2012': 1556, '2013': 1549, '2011': 1453, '2016': 1376, '2014': 1353, ...})\n"
     ]
    }
   ],
   "source": [
    "four_letter_words = [w for w in rapper_texts if len(w) == 4]\n",
    "\n",
    "# Create a frequency distribution of four-letter tokens\n",
    "fdist_four_letters = FreqDist(four_letter_words)\n",
    "\n",
    "# Print four-letter tokens in decreasing order of frequency\n",
    "fdist_four_letters.pprint()"
   ]
  },
  {
   "cell_type": "markdown",
   "metadata": {},
   "source": [
    "> * What does the following code do? `sum(len(w) for w in rapperWiki)` Can you use it to work out the average token length of the rapper Wikipedia text?\n"
   ]
  },
  {
   "cell_type": "code",
   "execution_count": 23,
   "metadata": {},
   "outputs": [
    {
     "name": "stdout",
     "output_type": "stream",
     "text": [
      "Average token length: 3.8777347599137126\n"
     ]
    }
   ],
   "source": [
    "# Total number of characters in the text\n",
    "total_characters = sum(len(w) for w in rapper_texts)\n",
    "\n",
    "# Total number of tokens in the text\n",
    "total_tokens = len(rapper_texts)\n",
    "\n",
    "# Calculating the average token length\n",
    "average_token_length = total_characters / total_tokens if total_tokens != 0 else 0  # added a condition to avoid division by zero\n",
    "\n",
    "print(f\"Average token length: {average_token_length}\")"
   ]
  },
  {
   "cell_type": "markdown",
   "metadata": {},
   "source": [
    "> * Define a function:\n",
    ">     1. called `vocab_size(text)` that has a single parameter for the `text`, and which returns the vocabulary size of the text. Apply it to the rapper Wikipedia text;\n",
    ">     2. `percent(word, text)` that calculates how often a given `word` occurs in a `text`, and expresses the result as a percentage. Apply it to the rapper Wikipedia Text to compute the percentage for *Dre*."
   ]
  },
  {
   "cell_type": "code",
   "execution_count": 24,
   "metadata": {},
   "outputs": [
    {
     "name": "stdout",
     "output_type": "stream",
     "text": [
      "Vocabulary Size of the Rapper Wikipedia Text: 42688\n"
     ]
    }
   ],
   "source": [
    "def vocab_size(text):\n",
    "    \"\"\"\n",
    "    Returns the vocabulary size of the text.\n",
    "\n",
    "    Parameters:\n",
    "    text (list or nltk.Text): The text to analyze.\n",
    "\n",
    "    Returns:\n",
    "    int: The vocabulary size.\n",
    "    \"\"\"\n",
    "    return len(set(text))\n",
    "\n",
    "# Applying the vocab_size function to the rapper Wikipedia text\n",
    "rapper_wiki_vocab_size = vocab_size(rapper_texts)  # replace rapperWiki with your actual text data\n",
    "print(f\"Vocabulary Size of the Rapper Wikipedia Text: {rapper_wiki_vocab_size}\")"
   ]
  },
  {
   "cell_type": "code",
   "execution_count": 25,
   "metadata": {},
   "outputs": [
    {
     "name": "stdout",
     "output_type": "stream",
     "text": [
      "Percentage of the word 'Dre' in the Rapper Wikipedia Text: 0.056343045087752%\n"
     ]
    }
   ],
   "source": [
    "def percent(word, text):\n",
    "    \"\"\"\n",
    "    Calculates how often a given word occurs in a text, and expresses the result as a percentage.\n",
    "\n",
    "    Parameters:\n",
    "    word (str): The word to calculate the percentage for.\n",
    "    text (list or nltk.Text): The text to analyze.\n",
    "\n",
    "    Returns:\n",
    "    float: The percentage of the word in the text.\n",
    "    \"\"\"\n",
    "    word_frequency = text.count(word)\n",
    "    total_words = len(text)\n",
    "    percentage = 100 * word_frequency / total_words if total_words != 0 else 0  # added a condition to avoid division by zero\n",
    "    return percentage\n",
    "\n",
    "# Applying the percent function to compute the percentage for \"Dre\" in the rapper Wikipedia text\n",
    "dre_percentage = percent(\"Dre\", rapper_texts)  # replace rapperWiki with your actual text data\n",
    "print(f\"Percentage of the word 'Dre' in the Rapper Wikipedia Text: {dre_percentage}%\")\n"
   ]
  },
  {
   "cell_type": "markdown",
   "metadata": {},
   "source": [
    "# Part 3: Working with NLTK and other types of text\n",
    "\n",
    "So far, we've worked with text from the rapper Wikipedia. But that's not the only source of text in the universe. In fact, it's far from it. Chapter 2 in NLPP is all about getting access to nicely curated texts that you can find built into NLTK.\n",
    "> \n",
    "> Reading: NLPP Chapter 2, Sec. 1 - 4.\n",
    ">"
   ]
  },
  {
   "cell_type": "markdown",
   "metadata": {},
   "source": [
    "> *Exercises*: NLPP Chapter 2\\. (other stuff that might be due in an assignment)\n",
    "> \n",
    "> * Solve exercise 4, 8, 11, 15, 16, 17, 18 in NLPP, section 2.8\\. As always, I recommend you write up your solutions nicely in a `notebook`.\n",
    "> * Work through exercise 2.8.23 on Zipf's law. [Zipf's law](https://en.wikipedia.org/wiki/Zipf%27s_law) connects to a property of the Barabasi-Albert networks. Which one? Take a look at [this article](https://www.hpl.hp.com/research/idl/papers/ranking/adamicglottometrics.pdf) and write a paragraph or two describing other important instances of power-laws found on the internet.\n",
    ">"
   ]
  },
  {
   "cell_type": "code",
   "execution_count": null,
   "metadata": {},
   "outputs": [],
   "source": []
  },
  {
   "cell_type": "code",
   "execution_count": null,
   "metadata": {},
   "outputs": [],
   "source": []
  },
  {
   "cell_type": "code",
   "execution_count": null,
   "metadata": {},
   "outputs": [],
   "source": []
  }
 ],
 "metadata": {
  "kernelspec": {
   "display_name": "Python 3 (ipykernel)",
   "language": "python",
   "name": "python3"
  },
  "language_info": {
   "codemirror_mode": {
    "name": "ipython",
    "version": 3
   },
   "file_extension": ".py",
   "mimetype": "text/x-python",
   "name": "python",
   "nbconvert_exporter": "python",
   "pygments_lexer": "ipython3",
   "version": "3.10.4"
  }
 },
 "nbformat": 4,
 "nbformat_minor": 4
}
