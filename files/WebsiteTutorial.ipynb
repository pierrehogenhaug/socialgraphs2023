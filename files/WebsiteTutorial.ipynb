{
 "cells": [
  {
   "cell_type": "markdown",
   "metadata": {},
   "source": [
    "# Creating a Minimalist Website with Hugo and Markdown\n",
    "\n",
    "In this tutorial we are going to look at how we can put all our beautiful visualizations and analysis for the final project on a website. \n",
    "\n",
    "> Follow the instructions below to build your own website!\n",
    "\n",
    "## 1. A quick intro to Git\n",
    "[Git](https://git-scm.com/) is an essential tool for anyone who works with data or code. It makes it easy to keep various versions of your code, collaborate with other people on the same code, etc., as for instance with [GitHub](https://github.com/).\n",
    "\n",
    "Since we will rely on GitHub for hosting our website, it's a good idea to go through a brief introduction to git and GitHub in case you're not familiar with them: [this tutorial](https://product.hubspot.com/blog/git-and-github-tutorial-for-beginners) should provide a good starting point.\n"
   ]
  },
  {
   "cell_type": "markdown",
   "metadata": {},
   "source": [
    "## 2. Hugo\n",
    "[Hugo](https://gohugo.io/) is a framework to quickly create beautiful websites using nothing more than the Markdown you are used to from Jupyter notebooks.\n",
    "\n",
    "Before going further, make a new directory, navigate to it in a terminal (for whose of you using windows, you should ~~stop using windows~~ use [git-bash](https://www.atlassian.com/git/tutorials/git-bash)), and turn it into a git repository by running: \n",
    "\n",
    "```\n",
    "git init\n",
    "git branch -M main\n",
    "```\n",
    "\n",
    "Within that directory, go through Hugo's quick-start tutorial [here](https://gohugo.io/getting-started/quick-start/). Pick a nice theme, and play around with your website (add some text, try some of the formatting options, etc.).\n",
    "\n",
    "Once you are done, commit your changes: \n",
    "\n",
    "```\n",
    "git add --all\n",
    "git commit -m \"Some message detailing what you did\"\n",
    "```"
   ]
  },
  {
   "cell_type": "markdown",
   "metadata": {},
   "source": [
    "## 3. Hosting your website on Github Pages\n",
    "\n",
    "[Github Pages](https://pages.github.com/) offers an easy way to host your static websites directly on GitHub. We'll do  that with the basic website we just created. You can find some information on how to do this [here](https://bwaycer.github.io/hugo_tutorial.hugo/tutorials/github-pages-blog/): we'll detail the first alternative from that tutorial, but if you're comfortable with git, we suggest trying the second alternative as it is more flexible.\n",
    "\n",
    ">*Initialize a new github repository*: \n",
    "> * Go to GitHub and create a [new repository](https://github.com/new). \n",
    "> * On the next page, follow the instructions under *\"…or push an existing repository from the command line\"*, and push the repository containing your Hugo website. \n",
    "> \n",
    "> Follow the instructions on the tutorial above ([this one](https://bwaycer.github.io/hugo_tutorial.hugo/tutorials/github-pages-blog/)):\n",
    ">\n",
    "> * Setup github pages for your repository\n",
    "> * Change hugo's configuration so that the build directory is \"docs\"\n",
    "> * Re-build your website\n",
    "> * Commit/push your changes, and check that you can see the website on github. \n",
    "\n",
    "**Note**: you might have to change Hugo's configuration (`config.toml`) so that the base url points to the url of your page. So:\n",
    "\n",
    "```\n",
    "baseURL = \"https://YOUR_PAGE.github.io/project_website_demo\"\n",
    "\n",
    "```"
   ]
  },
  {
   "cell_type": "markdown",
   "metadata": {},
   "source": [
    "## 4. Adding some visualizations\n",
    "\n",
    "You now (should) have a website, but it's kind of empty. Let's populate it with a few different visualizations from your project.\n",
    "\n",
    "*Matplotlib figures*: Matplotlib is easy, as it just exports plain images that you can include in your website. Choose a nice visualization form one of the previous weeks, save it to a file (**hint**: use `pyplot.savefig`), and add it to a page on your website (see [here](https://www.austinfriday.com/tutorial/adding-images-to-your-hugo-pages/) for a simple walkthrough).\n",
    "\n",
    "**Note:** because we are taking the easy road and building our website in the docs folder, you'll probably have an issue when viewing the images once your site is online. See [here](https://discourse.gohugo.io/t/can-i-reference-baseurl-from-content/2686/2) for a fix:\n",
    "\n",
    ">* Create a file  `your_website_folder/layouts/shortcodes/baseurl.html` (you might have to create the `shortcodes` folder)\n",
    ">* Put the following line in that file: `{{ .Page.Site.BaseURL }}`\n",
    ">* You can then reference images in your markdown file as follows: `![image description]({{< baseurl >}}/image.png)`\n",
    "\n",
    "It should look something like this page [here](https://ldorigo.github.io/dataviz_website_demo/pages/matplotlib/).\n",
    "\n",
    "Congrats, you can now make a website! We've only scratched the surface, but this should be enough to get started on your projects."
   ]
  }
 ],
 "metadata": {
  "kernelspec": {
   "display_name": "Python 3",
   "language": "python",
   "name": "python3"
  },
  "language_info": {
   "codemirror_mode": {
    "name": "ipython",
    "version": 3
   },
   "file_extension": ".py",
   "mimetype": "text/x-python",
   "name": "python",
   "nbconvert_exporter": "python",
   "pygments_lexer": "ipython3",
   "version": "3.7.7"
  }
 },
 "nbformat": 4,
 "nbformat_minor": 4
}
