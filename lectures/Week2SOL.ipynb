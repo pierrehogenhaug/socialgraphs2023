{
 "cells": [
  {
   "cell_type": "markdown",
   "metadata": {},
   "source": [
    "# Overview\n",
    "\n",
    "\n",
    "We kick things off with a few more administrative things. \n",
    "\n",
    "It might seem boring to hear about admin, **but this is the stuff you need to know to do well in the class**. So I recommend watching and paying attention!\n",
    "\n",
    "Afterwards, we follow up on the Network Examples exercise from last week, and get a couple of short guest-lectures about how networks are useful in _\"real life\"_.\n",
    "\n",
    "Then, we kick into gear and get started on the actual work. This week is about getting familiar with networks, and we'll focus on three main elements\n",
    "\n",
    "* A short talk on the basic mathematical description of networks\n",
    "* The `NetworkX` library \n",
    "* Matplotlib, binning, and plotting degree distributions\n",
    "* Random networks\n",
    "\n",
    "(The work-load is still a little bit light, since we want to allow those who are not super-strong at programming a bit of time to catch up. If you're bored and in need of extra work, let me know and I'll point you in the right direction.)"
   ]
  },
  {
   "cell_type": "markdown",
   "metadata": {},
   "source": [
    "# Part 0.0: The Admin Stuff \n",
    "### (GitHub Page Overview Edition)\n",
    "\n",
    "Last week, I gave you a lot of practical information about how to follow the class and discussed the principles of how I teach. How each lecture is structured to maximize your learning according to state-of-the-art principles. \n",
    "\n",
    "This week, the admin video talks about the structure of the Course Page, which actually contains a lot of useful information. Watch it [here](https://www.dropbox.com/scl/fi/15cizm63dhwxc3acf4zdr/AdminWeek2.mp4?rlkey=aogc5tj64yysmq2kea4ucpgqs&dl=0). Link: https://www.dropbox.com/scl/fi/15cizm63dhwxc3acf4zdr/AdminWeek2.mp4?rlkey=aogc5tj64yysmq2kea4ucpgqs&dl=0 .\n",
    "\n",
    "You'll notice that I've made it for the class that runs in the spring (Social Data Analysis and Visualization), but the web-page structure is similar, so everyhting should still work.\n",
    "\n",
    "Next week, I'll talk about the final elements of admin we have to cover for now\n",
    "\n",
    "* Forming groups\n",
    "* Handing in assignments\n",
    "* Peer Evaluations\n",
    "* The structure of the class"
   ]
  },
  {
   "cell_type": "markdown",
   "metadata": {},
   "source": [
    "# Part 0.1: Following up on last week's Network Examples exercise\n",
    "Last week, I showed you 4 different networks, and asked you to \n",
    "- Describe what you thought were important properties of the networks\n",
    "- Guess what the networks might be representing\n",
    "\n",
    "You even shared your thoughts [here](https://docs.google.com/spreadsheets/d/1eSnS6xvt_IKI_7PYH0hHwVp2y-64yyqLnu2DT5w7Yto/edit?usp=sharing). \n",
    "\n",
    "From talking to you, and reading your replies, it seems like you had many interesting discussions related to this exercise. Many of you really got the imagination going! Awesome!\n",
    "\n",
    "Some of you also asked me, whether we could follow up on the exercise; perhaps reveal what the networks actually are? This is what I do the following video. It's a bit longer than I intended, but I hope you can sit through it anyway.\n",
    "\n",
    "> **Video Lecture**. Let's [revisit the network examples from last week](https://www.dropbox.com/scl/fi/zk62u7qrhemnytxn47v0o/NetworkExamples.mp4?rlkey=y3k29hccqbwipn140rzgt1r1l&dl=0). Link: https://www.dropbox.com/scl/fi/zk62u7qrhemnytxn47v0o/NetworkExamples.mp4?rlkey=y3k29hccqbwipn140rzgt1r1l&dl=0\n"
   ]
  },
  {
   "cell_type": "markdown",
   "metadata": {},
   "source": [
    "# Part 0.2: Networks in \"real life\"\n",
    "\n",
    "Networks are interesting, but why would networks be important in \"real life\"? A couple of kind people have agreed to share 1-minute descriptions of how they use networks in their job. They will tell us\n",
    "- What nodes and links represent in the networks they work with\n",
    "- What kind of problem they are trying to solve with these networks\n",
    "\n",
    "> First watch [my short introduction to the videos](https://www.dropbox.com/scl/fi/jwcwqupz8btjmqd8yxt7q/NetworksInRealLife.mp4?rlkey=kyrmb6rcnfp2mkxk3rgkue8a0&dl=0)\n",
    "\n",
    "> Then watch the following videos that give an extremely short introduction to networks in \"real life\"\n",
    "> - [Ditte Nørbo Sørensen, Statistician at PFA Pension](https://www.dropbox.com/scl/fi/2zk3lkpzas9zoyzeqhamv/Ditte_PFA.mp4?rlkey=qltt9celtb8us7oo1zeqm635q&dl=0) Link: https://www.dropbox.com/scl/fi/2zk3lkpzas9zoyzeqhamv/Ditte_PFA.mp4?rlkey=qltt9celtb8us7oo1zeqm635q&dl=0\n",
    "> - [Jacob Søberg Bach, Senior Data Scientist at Novo Nordisk](https://www.dropbox.com/scl/fi/w51hu99sk1dpf1px9pgp3/Jacob_Novo.MOV?rlkey=3jklr4sxnwzn9s8qk6z3c9g62&dl=0) Link : https://www.dropbox.com/scl/fi/w51hu99sk1dpf1px9pgp3/Jacob_Novo.MOV?rlkey=3jklr4sxnwzn9s8qk6z3c9g62&dl=0\n",
    "> - [Jonas Lybker Juul, Postdoc at DTU Compute (Yep, that's me)](https://www.dropbox.com/s/n2341cgf0byxmly/Networks_DTU_JLJuul.mpeg?dl=0) Link: https://www.dropbox.com/s/n2341cgf0byxmly/Networks_DTU_JLJuul.mpeg?dl=0\n",
    "\n",
    "Exercise:\n",
    "> Now that you have watched a few examples of how networks can be important in real life, try to think of one example from your own field of study (or workplace), where networks are important. \n",
    "> - What are the nodes and edges in this networks?\n",
    "> - What problems can your network help you solve?"
   ]
  },
  {
   "cell_type": "markdown",
   "metadata": {},
   "source": [
    "# Part 1: Basic mathematical description of networks\n",
    "\n",
    "This week, let's start with some lecturing. I love networks, so I'll take some time today to tell you about them."
   ]
  },
  {
   "cell_type": "markdown",
   "metadata": {},
   "source": [
    "> **_Video Lecture_**. Then check out a few comments on \"[Network Notation](https://www.dropbox.com/scl/fi/ed2ho7xvkxpg2o1onwtxg/NetworkNotation.mp4?rlkey=t7dt7eqzy7abyydpmeeys00cz&dl=0)\". Link: https://www.dropbox.com/scl/fi/ed2ho7xvkxpg2o1onwtxg/NetworkNotation.mp4?rlkey=t7dt7eqzy7abyydpmeeys00cz&dl=0 "
   ]
  },
  {
   "cell_type": "markdown",
   "metadata": {},
   "source": [
    "Now for some reading\n",
    "\n",
    "> _Reading_. We'll be reading the textbook _Network Science_ (NS) by Laszlo Barabasi. You can read the whole \n",
    "> thing for free [**here**](http://barabasi.com/networksciencebook/). \n",
    ">\n",
    "> * Read chapter 2\\.\n",
    "> "
   ]
  },
  {
   "cell_type": "markdown",
   "metadata": {},
   "source": [
    "And the associated exercises\n",
    "\n",
    "> *Exercises*: Chapter 2 in *Network Science*.\n",
    "> \n",
    "> * Section 2.5 states that real networks are sparse. Can you think of a real network where each node has _many_ connections? Is that network still sparse? If yes, can you explain why?\n",
    "> \n",
    "> There are more questions on Chapter 2 below.\n",
    "> "
   ]
  },
  {
   "cell_type": "markdown",
   "metadata": {},
   "source": [
    "# Part 2: Exercises using the `NetworkX` library\n",
    "\n",
    "Let's try to solve a few of the exercises from the book using `NetworkX`\n",
    "\n",
    "> *Exercises*:\n",
    "> \n",
    "> * Go to NS Section 2.12: Homework, then\n",
    ">   * Write the solution exercise **2.1** (the 'Königsberg Problem') from NS in your `notebook`. \n",
    ">   * Solve exercise **2.3** ('Graph representation') from NS using `NetworkX` in your `notebook`. (You don't have to solve the last sub-question about *cycles of length 4* ... but I'll be impressed if you do it).\n",
    ">   * Solve exercise **2.5** ('Bipartite Networks') from NS using `NetworkX` in your `notebook`. *Important note*: There is a a mistake in the book. When it says \"Block diagonal\", they mean \"Anti-diagonal\" (all elements are away from the diagonal blocks). \n",
    ">     - *Note*: For those without the physical book (and therefore no exercise numbers), the part \"Bipartite Networks - General Considerations\" does not need to be solved (the two last questions do not make much sense to me).\n",
    "> "
   ]
  },
  {
   "cell_type": "markdown",
   "metadata": {},
   "source": [
    "# Part 3: Plotting degree distributions\n",
    "\n",
    "As always we'll learn about degree-distribution plotting by creating a `notebook` and trying it out. \n",
    "\n",
    "As a little public service announcement about this exercise: I know that you've probably tried binning data before. And that there are many functions designed to make binning easy, so there is a good chance that you think that binning data into bins is something that you don't have to worry about.\n",
    "\n",
    "**BUT** ... with this exercise, you may find that binning isn't always trivial. And that there are key things to think about every time you need to put data into buckets. So please read the exercise carefully. And follow my instructions carefully.\n",
    "\n",
    "\n",
    "> \n",
    "> *Exercises*:\n",
    "> \n",
    "> Begin by importing the right packages. Start by importing `matplotlib.pyplot` (for plotting), `numpy` (for binning and other stuff), \n",
    "> `random` (for generating random numbers), and `networkx` (for generating networks.)\n",
    "> \n",
    "> * Binning real numbers\n",
    ">   * Let's do a gentle start and use the `random` library generate 5000 data points from a Gaussian distribution with $\\mu = 2$ and $\\sigma = 0.125$.\n",
    ">   * Now, let's use `numpy.histogram` to bin those number into 10 bins. What does the `numpy.histogram` function return? Do the two arrays have the same length?\n",
    ">   * Then we use `matplotlib.pyplot.plot` to plot the binned data. You will have to deal with the fact that the counts- and bin-arrays have different lengths. Explain how you deal with this problem and why.\n",
    "> * Binning integers\n",
    ">   * But binning real numbers into a fixed number of bins is easy when `numpy.histogram` does all the work and finds the right bin boundaries for you. \n",
    "> Now we'll generate a bunch of integers and set the bin boundaries manually. This time, let's grab data from a Poisson distribution. As it turns out \n",
    "> `numpy` also has some convenient random number generators. Use `numpy.random.poisson` to generate 5000 numbers drawn from a Poisson distribution \n",
    "> characterized by $\\lambda = 10$. Find the maximum and minimum value of your 5000 random numbers. \n",
    ">   * Instead of simply specifying the number of bins for `numpy.histogram`, let's specify the bins we want using a vector. \n",
    "> Create a vector $v$\n",
    "> that results in a binning that puts each integer value in its own bin and where the first bin contains the minimum number you found above, \n",
    "> and the last bin contains the maximum number. \n",
    "> Use the vector by setting `numpy.histogram`'s `bin` parameter as `bin = ` $v$. \n",
    "> What is the sum over bin counts? Explain how the binning-vectors first and last element \n",
    "> relates to the min and max from the Poisson distribution.\n",
    ">   * Now, use a bar chart (`matplotlib.pyplot.bar`) to plot the distribution \n",
    "> * Binning and plotting degree distributions. \n",
    ">   * Let's generate the Erdös-Renyi (ER) network which has a degree distribution that matches the Poisson distribution above. \n",
    "> First we have to figure out which values the ER parameters (_N_ and _p_) should assume. It's easy to see that $N = 5000$, but how do you find $p$? \n",
    "> **Hint**: The parameter $\\lambda$ in the Poisson distribution corresponds to the average degree, so you have to find a $p$ that results in an average \n",
    "> degree, $\\langle k \\rangle = 10$. And you know that $\\langle k \\rangle = p (N-1)$, which will give you $p$.\n",
    ">   * Now, use `networkx` to create the graph and extract the degree distribution.\n",
    ">   * Finally, create a nice bar plot of the degree distribution, including axes labels and a plot title. Make sure that it looks like the Poisson distribution you plotted above.\n",
    "> "
   ]
  },
  {
   "cell_type": "markdown",
   "metadata": {},
   "source": [
    "# Part 4: Random networks\n",
    "\n",
    "> **_Video Lecture_**. Now it's time to relax and watch a few minutes of info on _[Random Networks](https://www.dropbox.com/scl/fi/zjjrojrq6bfs5j0f201zv/RandomNetworks.mp4?rlkey=4vgrsrsu9e0lqwe5aocaujn6s&dl=0)_ link: https://www.dropbox.com/scl/fi/zjjrojrq6bfs5j0f201zv/RandomNetworks.mp4?rlkey=4vgrsrsu9e0lqwe5aocaujn6s&dl=0. "
   ]
  },
  {
   "cell_type": "markdown",
   "metadata": {},
   "source": [
    "> _Reading_. Read section 3.1-3.7 (the most important part is 3.1-3.4) of Chapter 3 of _Network Science_. You can find the entire book [**here**](http://barabasi.com/networksciencebook/).\n"
   ]
  },
  {
   "cell_type": "markdown",
   "metadata": {},
   "source": [
    "> _Exercises_ (should be completed in a `notebook`):\n",
    "> \n",
    "> * Work through NS exercise 3.1 ('Erdős-Rényi Networks'). The exercise can be found in Section 3.11: Homework.\n",
    "> * Paths. Plot a random network with 200 nodes and an average degree of 1.5\\. (I suggest using `networkx.draw` and reading [the documentation](https://networkx.github.io/documentation/stable/reference/drawing.html) carefully to get an overview of all the options and what they look like. For example, you may want to shrink the node size).\n",
    ">   * Extract the Giant Connected Component, GCC. (Hint: You can use `networkx.connected_component_subgraphs` <- it works in ealier versions of NetworkX (<2.5) || Otherwise, you can use `nx.connected_components(G)` and `G.subgraph(c).copy()`)\n",
    ">   * Choose a node at random from the GCC. (Hint: You may want to try `random.choice`.)\n",
    ">   * Find all nodes that are precisely 2 steps away from that node. (Hint. I suggest `networkx.single_source_shortest_path_length`)\n",
    ">   * Plot the GCC with the following choice of colors. Starting node _black_ (`\"#000000\"`). The nodes 2 steps away _red_ (`\"#ff0000\"`). All other nodes _blue_ (`\"#A0CBE2\"`). Again, I suggest using `networkx.draw()` and reading [the documentation](https://networkx.github.io/documentation/stable/reference/drawing.html) carefully find out how to color individual nodes.\n",
    "> \n",
    "\n",
    "By the way, the default plot coming out of `networkx` doesn't look like the one below. But by tweaking parameters, you should be able to create something that looks like it.\n",
    "\n",
    "![Sune's Network](https://raw.githubusercontent.com/suneman/socialgraphs2019/master/files/edge_colormap.png)"
   ]
  },
  {
   "cell_type": "code",
   "execution_count": null,
   "metadata": {},
   "outputs": [],
   "source": []
  }
 ],
 "metadata": {
  "anaconda-cloud": {},
  "kernelspec": {
   "display_name": "Python 3 (ipykernel)",
   "language": "python",
   "name": "python3"
  },
  "language_info": {
   "codemirror_mode": {
    "name": "ipython",
    "version": 3
   },
   "file_extension": ".py",
   "mimetype": "text/x-python",
   "name": "python",
   "nbconvert_exporter": "python",
   "pygments_lexer": "ipython3",
   "version": "3.9.13"
  }
 },
 "nbformat": 4,
 "nbformat_minor": 1
}
